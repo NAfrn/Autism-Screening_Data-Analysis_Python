{
 "cells": [
  {
   "cell_type": "code",
   "execution_count": 1,
   "id": "7972a072",
   "metadata": {},
   "outputs": [],
   "source": [
    "#Predict the likelihood of a person having autism using survey and demographic variables.\n",
    "#Explore Autism across Gender, Age, and other variables\n",
    "\n",
    "\n",
    "#import libraries\n",
    "\n",
    "import pandas as pd\n",
    "import matplotlib.pyplot as plt\n",
    "import numpy as np\n",
    "import seaborn as sns\n"
   ]
  },
  {
   "cell_type": "code",
   "execution_count": 2,
   "id": "1ce80f0b",
   "metadata": {},
   "outputs": [],
   "source": [
    "#Importing the Data\n",
    "\n",
    "df= pd.read_csv('autism_screening.csv')"
   ]
  },
  {
   "cell_type": "code",
   "execution_count": 3,
   "id": "951047b7",
   "metadata": {
    "scrolled": true
   },
   "outputs": [
    {
     "data": {
      "text/html": [
       "<div>\n",
       "<style scoped>\n",
       "    .dataframe tbody tr th:only-of-type {\n",
       "        vertical-align: middle;\n",
       "    }\n",
       "\n",
       "    .dataframe tbody tr th {\n",
       "        vertical-align: top;\n",
       "    }\n",
       "\n",
       "    .dataframe thead th {\n",
       "        text-align: right;\n",
       "    }\n",
       "</style>\n",
       "<table border=\"1\" class=\"dataframe\">\n",
       "  <thead>\n",
       "    <tr style=\"text-align: right;\">\n",
       "      <th></th>\n",
       "      <th>A1_Score</th>\n",
       "      <th>A2_Score</th>\n",
       "      <th>A3_Score</th>\n",
       "      <th>A4_Score</th>\n",
       "      <th>A5_Score</th>\n",
       "      <th>A6_Score</th>\n",
       "      <th>A7_Score</th>\n",
       "      <th>A8_Score</th>\n",
       "      <th>A9_Score</th>\n",
       "      <th>A10_Score</th>\n",
       "      <th>...</th>\n",
       "      <th>gender</th>\n",
       "      <th>ethnicity</th>\n",
       "      <th>jundice</th>\n",
       "      <th>austim</th>\n",
       "      <th>contry_of_res</th>\n",
       "      <th>used_app_before</th>\n",
       "      <th>result</th>\n",
       "      <th>age_desc</th>\n",
       "      <th>relation</th>\n",
       "      <th>Class/ASD</th>\n",
       "    </tr>\n",
       "  </thead>\n",
       "  <tbody>\n",
       "    <tr>\n",
       "      <th>0</th>\n",
       "      <td>1</td>\n",
       "      <td>1</td>\n",
       "      <td>1</td>\n",
       "      <td>1</td>\n",
       "      <td>0</td>\n",
       "      <td>0</td>\n",
       "      <td>1</td>\n",
       "      <td>1</td>\n",
       "      <td>0</td>\n",
       "      <td>0</td>\n",
       "      <td>...</td>\n",
       "      <td>f</td>\n",
       "      <td>White-European</td>\n",
       "      <td>no</td>\n",
       "      <td>no</td>\n",
       "      <td>United States</td>\n",
       "      <td>no</td>\n",
       "      <td>6.0</td>\n",
       "      <td>18 and more</td>\n",
       "      <td>Self</td>\n",
       "      <td>NO</td>\n",
       "    </tr>\n",
       "    <tr>\n",
       "      <th>1</th>\n",
       "      <td>1</td>\n",
       "      <td>1</td>\n",
       "      <td>0</td>\n",
       "      <td>1</td>\n",
       "      <td>0</td>\n",
       "      <td>0</td>\n",
       "      <td>0</td>\n",
       "      <td>1</td>\n",
       "      <td>0</td>\n",
       "      <td>1</td>\n",
       "      <td>...</td>\n",
       "      <td>m</td>\n",
       "      <td>Latino</td>\n",
       "      <td>no</td>\n",
       "      <td>yes</td>\n",
       "      <td>Brazil</td>\n",
       "      <td>no</td>\n",
       "      <td>5.0</td>\n",
       "      <td>18 and more</td>\n",
       "      <td>Self</td>\n",
       "      <td>NO</td>\n",
       "    </tr>\n",
       "    <tr>\n",
       "      <th>2</th>\n",
       "      <td>1</td>\n",
       "      <td>1</td>\n",
       "      <td>0</td>\n",
       "      <td>1</td>\n",
       "      <td>1</td>\n",
       "      <td>0</td>\n",
       "      <td>1</td>\n",
       "      <td>1</td>\n",
       "      <td>1</td>\n",
       "      <td>1</td>\n",
       "      <td>...</td>\n",
       "      <td>m</td>\n",
       "      <td>Latino</td>\n",
       "      <td>yes</td>\n",
       "      <td>yes</td>\n",
       "      <td>Spain</td>\n",
       "      <td>no</td>\n",
       "      <td>8.0</td>\n",
       "      <td>18 and more</td>\n",
       "      <td>Parent</td>\n",
       "      <td>YES</td>\n",
       "    </tr>\n",
       "    <tr>\n",
       "      <th>3</th>\n",
       "      <td>1</td>\n",
       "      <td>1</td>\n",
       "      <td>0</td>\n",
       "      <td>1</td>\n",
       "      <td>0</td>\n",
       "      <td>0</td>\n",
       "      <td>1</td>\n",
       "      <td>1</td>\n",
       "      <td>0</td>\n",
       "      <td>1</td>\n",
       "      <td>...</td>\n",
       "      <td>f</td>\n",
       "      <td>White-European</td>\n",
       "      <td>no</td>\n",
       "      <td>yes</td>\n",
       "      <td>United States</td>\n",
       "      <td>no</td>\n",
       "      <td>6.0</td>\n",
       "      <td>18 and more</td>\n",
       "      <td>Self</td>\n",
       "      <td>NO</td>\n",
       "    </tr>\n",
       "    <tr>\n",
       "      <th>4</th>\n",
       "      <td>1</td>\n",
       "      <td>0</td>\n",
       "      <td>0</td>\n",
       "      <td>0</td>\n",
       "      <td>0</td>\n",
       "      <td>0</td>\n",
       "      <td>0</td>\n",
       "      <td>1</td>\n",
       "      <td>0</td>\n",
       "      <td>0</td>\n",
       "      <td>...</td>\n",
       "      <td>f</td>\n",
       "      <td>?</td>\n",
       "      <td>no</td>\n",
       "      <td>no</td>\n",
       "      <td>Egypt</td>\n",
       "      <td>no</td>\n",
       "      <td>2.0</td>\n",
       "      <td>18 and more</td>\n",
       "      <td>?</td>\n",
       "      <td>NO</td>\n",
       "    </tr>\n",
       "  </tbody>\n",
       "</table>\n",
       "<p>5 rows × 21 columns</p>\n",
       "</div>"
      ],
      "text/plain": [
       "   A1_Score  A2_Score  A3_Score  A4_Score  A5_Score  A6_Score  A7_Score  \\\n",
       "0         1         1         1         1         0         0         1   \n",
       "1         1         1         0         1         0         0         0   \n",
       "2         1         1         0         1         1         0         1   \n",
       "3         1         1         0         1         0         0         1   \n",
       "4         1         0         0         0         0         0         0   \n",
       "\n",
       "   A8_Score  A9_Score  A10_Score  ...  gender       ethnicity jundice austim  \\\n",
       "0         1         0          0  ...       f  White-European      no     no   \n",
       "1         1         0          1  ...       m          Latino      no    yes   \n",
       "2         1         1          1  ...       m          Latino     yes    yes   \n",
       "3         1         0          1  ...       f  White-European      no    yes   \n",
       "4         1         0          0  ...       f               ?      no     no   \n",
       "\n",
       "   contry_of_res used_app_before result     age_desc relation Class/ASD  \n",
       "0  United States              no    6.0  18 and more     Self        NO  \n",
       "1         Brazil              no    5.0  18 and more     Self        NO  \n",
       "2          Spain              no    8.0  18 and more   Parent       YES  \n",
       "3  United States              no    6.0  18 and more     Self        NO  \n",
       "4          Egypt              no    2.0  18 and more        ?        NO  \n",
       "\n",
       "[5 rows x 21 columns]"
      ]
     },
     "execution_count": 3,
     "metadata": {},
     "output_type": "execute_result"
    }
   ],
   "source": [
    "df.head()"
   ]
  },
  {
   "cell_type": "code",
   "execution_count": 4,
   "id": "1780314b",
   "metadata": {},
   "outputs": [
    {
     "name": "stdout",
     "output_type": "stream",
     "text": [
      "<class 'pandas.core.frame.DataFrame'>\n",
      "RangeIndex: 704 entries, 0 to 703\n",
      "Data columns (total 21 columns):\n",
      " #   Column           Non-Null Count  Dtype  \n",
      "---  ------           --------------  -----  \n",
      " 0   A1_Score         704 non-null    int64  \n",
      " 1   A2_Score         704 non-null    int64  \n",
      " 2   A3_Score         704 non-null    int64  \n",
      " 3   A4_Score         704 non-null    int64  \n",
      " 4   A5_Score         704 non-null    int64  \n",
      " 5   A6_Score         704 non-null    int64  \n",
      " 6   A7_Score         704 non-null    int64  \n",
      " 7   A8_Score         704 non-null    int64  \n",
      " 8   A9_Score         704 non-null    int64  \n",
      " 9   A10_Score        704 non-null    int64  \n",
      " 10  age              702 non-null    float64\n",
      " 11  gender           704 non-null    object \n",
      " 12  ethnicity        704 non-null    object \n",
      " 13  jundice          704 non-null    object \n",
      " 14  austim           704 non-null    object \n",
      " 15  contry_of_res    704 non-null    object \n",
      " 16  used_app_before  704 non-null    object \n",
      " 17  result           704 non-null    float64\n",
      " 18  age_desc         704 non-null    object \n",
      " 19  relation         704 non-null    object \n",
      " 20  Class/ASD        704 non-null    object \n",
      "dtypes: float64(2), int64(10), object(9)\n",
      "memory usage: 115.6+ KB\n"
     ]
    }
   ],
   "source": [
    "df.info()"
   ]
  },
  {
   "cell_type": "code",
   "execution_count": 5,
   "id": "05e0938c",
   "metadata": {},
   "outputs": [],
   "source": [
    "#Setting Display options to ensure feature name visibility\n",
    "\n",
    "pd.set_option('display.max_columns',None)\n",
    "\n",
    "#Warning Suspension\n",
    "\n",
    "import warnings\n",
    "warnings.filterwarnings('ignore')"
   ]
  },
  {
   "cell_type": "code",
   "execution_count": 6,
   "id": "f2e7d03a",
   "metadata": {},
   "outputs": [
    {
     "data": {
      "text/plain": [
       "A1_Score           0\n",
       "A2_Score           0\n",
       "A3_Score           0\n",
       "A4_Score           0\n",
       "A5_Score           0\n",
       "A6_Score           0\n",
       "A7_Score           0\n",
       "A8_Score           0\n",
       "A9_Score           0\n",
       "A10_Score          0\n",
       "age                2\n",
       "gender             0\n",
       "ethnicity          0\n",
       "jundice            0\n",
       "austim             0\n",
       "contry_of_res      0\n",
       "used_app_before    0\n",
       "result             0\n",
       "age_desc           0\n",
       "relation           0\n",
       "Class/ASD          0\n",
       "dtype: int64"
      ]
     },
     "execution_count": 6,
     "metadata": {},
     "output_type": "execute_result"
    }
   ],
   "source": [
    "#Checking null Values\n",
    "\n",
    "df.isnull().sum()"
   ]
  },
  {
   "cell_type": "code",
   "execution_count": 7,
   "id": "f249d4db",
   "metadata": {},
   "outputs": [
    {
     "data": {
      "text/html": [
       "<div>\n",
       "<style scoped>\n",
       "    .dataframe tbody tr th:only-of-type {\n",
       "        vertical-align: middle;\n",
       "    }\n",
       "\n",
       "    .dataframe tbody tr th {\n",
       "        vertical-align: top;\n",
       "    }\n",
       "\n",
       "    .dataframe thead th {\n",
       "        text-align: right;\n",
       "    }\n",
       "</style>\n",
       "<table border=\"1\" class=\"dataframe\">\n",
       "  <thead>\n",
       "    <tr style=\"text-align: right;\">\n",
       "      <th></th>\n",
       "      <th>A1_Score</th>\n",
       "      <th>A2_Score</th>\n",
       "      <th>A3_Score</th>\n",
       "      <th>A4_Score</th>\n",
       "      <th>A5_Score</th>\n",
       "      <th>A6_Score</th>\n",
       "      <th>A7_Score</th>\n",
       "      <th>A8_Score</th>\n",
       "      <th>A9_Score</th>\n",
       "      <th>A10_Score</th>\n",
       "      <th>age</th>\n",
       "      <th>result</th>\n",
       "    </tr>\n",
       "  </thead>\n",
       "  <tbody>\n",
       "    <tr>\n",
       "      <th>count</th>\n",
       "      <td>704.000000</td>\n",
       "      <td>704.000000</td>\n",
       "      <td>704.000000</td>\n",
       "      <td>704.000000</td>\n",
       "      <td>704.000000</td>\n",
       "      <td>704.000000</td>\n",
       "      <td>704.000000</td>\n",
       "      <td>704.000000</td>\n",
       "      <td>704.000000</td>\n",
       "      <td>704.000000</td>\n",
       "      <td>702.000000</td>\n",
       "      <td>704.000000</td>\n",
       "    </tr>\n",
       "    <tr>\n",
       "      <th>mean</th>\n",
       "      <td>0.721591</td>\n",
       "      <td>0.453125</td>\n",
       "      <td>0.457386</td>\n",
       "      <td>0.495739</td>\n",
       "      <td>0.498580</td>\n",
       "      <td>0.284091</td>\n",
       "      <td>0.417614</td>\n",
       "      <td>0.649148</td>\n",
       "      <td>0.323864</td>\n",
       "      <td>0.573864</td>\n",
       "      <td>29.698006</td>\n",
       "      <td>4.875000</td>\n",
       "    </tr>\n",
       "    <tr>\n",
       "      <th>std</th>\n",
       "      <td>0.448535</td>\n",
       "      <td>0.498152</td>\n",
       "      <td>0.498535</td>\n",
       "      <td>0.500337</td>\n",
       "      <td>0.500353</td>\n",
       "      <td>0.451301</td>\n",
       "      <td>0.493516</td>\n",
       "      <td>0.477576</td>\n",
       "      <td>0.468281</td>\n",
       "      <td>0.494866</td>\n",
       "      <td>16.507465</td>\n",
       "      <td>2.501493</td>\n",
       "    </tr>\n",
       "    <tr>\n",
       "      <th>min</th>\n",
       "      <td>0.000000</td>\n",
       "      <td>0.000000</td>\n",
       "      <td>0.000000</td>\n",
       "      <td>0.000000</td>\n",
       "      <td>0.000000</td>\n",
       "      <td>0.000000</td>\n",
       "      <td>0.000000</td>\n",
       "      <td>0.000000</td>\n",
       "      <td>0.000000</td>\n",
       "      <td>0.000000</td>\n",
       "      <td>17.000000</td>\n",
       "      <td>0.000000</td>\n",
       "    </tr>\n",
       "    <tr>\n",
       "      <th>25%</th>\n",
       "      <td>0.000000</td>\n",
       "      <td>0.000000</td>\n",
       "      <td>0.000000</td>\n",
       "      <td>0.000000</td>\n",
       "      <td>0.000000</td>\n",
       "      <td>0.000000</td>\n",
       "      <td>0.000000</td>\n",
       "      <td>0.000000</td>\n",
       "      <td>0.000000</td>\n",
       "      <td>0.000000</td>\n",
       "      <td>21.000000</td>\n",
       "      <td>3.000000</td>\n",
       "    </tr>\n",
       "    <tr>\n",
       "      <th>50%</th>\n",
       "      <td>1.000000</td>\n",
       "      <td>0.000000</td>\n",
       "      <td>0.000000</td>\n",
       "      <td>0.000000</td>\n",
       "      <td>0.000000</td>\n",
       "      <td>0.000000</td>\n",
       "      <td>0.000000</td>\n",
       "      <td>1.000000</td>\n",
       "      <td>0.000000</td>\n",
       "      <td>1.000000</td>\n",
       "      <td>27.000000</td>\n",
       "      <td>4.000000</td>\n",
       "    </tr>\n",
       "    <tr>\n",
       "      <th>75%</th>\n",
       "      <td>1.000000</td>\n",
       "      <td>1.000000</td>\n",
       "      <td>1.000000</td>\n",
       "      <td>1.000000</td>\n",
       "      <td>1.000000</td>\n",
       "      <td>1.000000</td>\n",
       "      <td>1.000000</td>\n",
       "      <td>1.000000</td>\n",
       "      <td>1.000000</td>\n",
       "      <td>1.000000</td>\n",
       "      <td>35.000000</td>\n",
       "      <td>7.000000</td>\n",
       "    </tr>\n",
       "    <tr>\n",
       "      <th>max</th>\n",
       "      <td>1.000000</td>\n",
       "      <td>1.000000</td>\n",
       "      <td>1.000000</td>\n",
       "      <td>1.000000</td>\n",
       "      <td>1.000000</td>\n",
       "      <td>1.000000</td>\n",
       "      <td>1.000000</td>\n",
       "      <td>1.000000</td>\n",
       "      <td>1.000000</td>\n",
       "      <td>1.000000</td>\n",
       "      <td>383.000000</td>\n",
       "      <td>10.000000</td>\n",
       "    </tr>\n",
       "  </tbody>\n",
       "</table>\n",
       "</div>"
      ],
      "text/plain": [
       "         A1_Score    A2_Score    A3_Score    A4_Score    A5_Score    A6_Score  \\\n",
       "count  704.000000  704.000000  704.000000  704.000000  704.000000  704.000000   \n",
       "mean     0.721591    0.453125    0.457386    0.495739    0.498580    0.284091   \n",
       "std      0.448535    0.498152    0.498535    0.500337    0.500353    0.451301   \n",
       "min      0.000000    0.000000    0.000000    0.000000    0.000000    0.000000   \n",
       "25%      0.000000    0.000000    0.000000    0.000000    0.000000    0.000000   \n",
       "50%      1.000000    0.000000    0.000000    0.000000    0.000000    0.000000   \n",
       "75%      1.000000    1.000000    1.000000    1.000000    1.000000    1.000000   \n",
       "max      1.000000    1.000000    1.000000    1.000000    1.000000    1.000000   \n",
       "\n",
       "         A7_Score    A8_Score    A9_Score   A10_Score         age      result  \n",
       "count  704.000000  704.000000  704.000000  704.000000  702.000000  704.000000  \n",
       "mean     0.417614    0.649148    0.323864    0.573864   29.698006    4.875000  \n",
       "std      0.493516    0.477576    0.468281    0.494866   16.507465    2.501493  \n",
       "min      0.000000    0.000000    0.000000    0.000000   17.000000    0.000000  \n",
       "25%      0.000000    0.000000    0.000000    0.000000   21.000000    3.000000  \n",
       "50%      0.000000    1.000000    0.000000    1.000000   27.000000    4.000000  \n",
       "75%      1.000000    1.000000    1.000000    1.000000   35.000000    7.000000  \n",
       "max      1.000000    1.000000    1.000000    1.000000  383.000000   10.000000  "
      ]
     },
     "execution_count": 7,
     "metadata": {},
     "output_type": "execute_result"
    }
   ],
   "source": [
    "df.describe()"
   ]
  },
  {
   "cell_type": "code",
   "execution_count": 8,
   "id": "1f3a3d51",
   "metadata": {},
   "outputs": [],
   "source": [
    "#Start Cleaning the data\n",
    "#Rename coulumn names"
   ]
  },
  {
   "cell_type": "code",
   "execution_count": 9,
   "id": "ec7f17e5",
   "metadata": {},
   "outputs": [],
   "source": [
    "#rename  : 'jundice', 'austim', 'contry_of_res','austim':'family member with PDD'\n",
    "df = df.rename(columns={'jundice':'jaundice', 'Class/ASD': 'has_ASD','contry_of_res':'country_of_res' , 'austim':'family member with PDD'})"
   ]
  },
  {
   "cell_type": "code",
   "execution_count": 10,
   "id": "6195904e",
   "metadata": {},
   "outputs": [
    {
     "data": {
      "text/plain": [
       "array(['White-European', 'Latino', 'Others', 'Black', 'Asian',\n",
       "       'Middle Eastern ', 'Pasifika', 'South Asian', 'Hispanic',\n",
       "       'Turkish'], dtype=object)"
      ]
     },
     "execution_count": 10,
     "metadata": {},
     "output_type": "execute_result"
    }
   ],
   "source": [
    "#remove: 'age_desc'\n",
    "#df_num=df\n",
    "df.drop(['age_desc'], inplace =True, axis=1)\n",
    "df['ethnicity'] = df['ethnicity'].replace('?', 'Others')\n",
    "df['ethnicity'] = df['ethnicity'].replace('others', 'Others')\n",
    "df['ethnicity'].unique()"
   ]
  },
  {
   "cell_type": "code",
   "execution_count": 11,
   "id": "860597a7",
   "metadata": {
    "scrolled": false
   },
   "outputs": [
    {
     "data": {
      "text/plain": [
       "A1_Score                  0\n",
       "A2_Score                  0\n",
       "A3_Score                  0\n",
       "A4_Score                  0\n",
       "A5_Score                  0\n",
       "A6_Score                  0\n",
       "A7_Score                  0\n",
       "A8_Score                  0\n",
       "A9_Score                  0\n",
       "A10_Score                 0\n",
       "age                       0\n",
       "gender                    0\n",
       "ethnicity                 0\n",
       "jaundice                  0\n",
       "family member with PDD    0\n",
       "country_of_res            0\n",
       "used_app_before           0\n",
       "result                    0\n",
       "relation                  0\n",
       "has_ASD                   0\n",
       "dtype: int64"
      ]
     },
     "execution_count": 11,
     "metadata": {},
     "output_type": "execute_result"
    }
   ],
   "source": [
    "df['age'] = df['age'].fillna(np.round(df['age'].mean(), 0))\n",
    "df.isnull().sum()"
   ]
  },
  {
   "cell_type": "code",
   "execution_count": 12,
   "id": "8d0d1945",
   "metadata": {},
   "outputs": [
    {
     "data": {
      "text/plain": [
       "array(['Self', 'Parent', '?', 'Health care professional', 'Relative',\n",
       "       'Others'], dtype=object)"
      ]
     },
     "execution_count": 12,
     "metadata": {},
     "output_type": "execute_result"
    }
   ],
   "source": [
    "df['relation'].unique()"
   ]
  },
  {
   "cell_type": "code",
   "execution_count": 13,
   "id": "fbf62639",
   "metadata": {},
   "outputs": [
    {
     "data": {
      "text/plain": [
       "array(['Self', 'Parent', 'Others', 'Health care professional', 'Relative'],\n",
       "      dtype=object)"
      ]
     },
     "execution_count": 13,
     "metadata": {},
     "output_type": "execute_result"
    }
   ],
   "source": [
    "df['relation'] = df['relation'].replace('?', 'Others')\n",
    "df['relation'].unique()"
   ]
  },
  {
   "cell_type": "code",
   "execution_count": 14,
   "id": "c7b47ffb",
   "metadata": {},
   "outputs": [
    {
     "data": {
      "text/plain": [
       "array([1, 0], dtype=int64)"
      ]
     },
     "execution_count": 14,
     "metadata": {},
     "output_type": "execute_result"
    }
   ],
   "source": [
    "df['A1_Score'].unique()"
   ]
  },
  {
   "cell_type": "code",
   "execution_count": null,
   "id": "fa059bed",
   "metadata": {},
   "outputs": [],
   "source": []
  },
  {
   "cell_type": "code",
   "execution_count": null,
   "id": "b4896e40",
   "metadata": {
    "scrolled": true
   },
   "outputs": [],
   "source": []
  },
  {
   "cell_type": "code",
   "execution_count": 15,
   "id": "5708635c",
   "metadata": {},
   "outputs": [],
   "source": [
    "#Change datatype of age column\n",
    "df.age = df.age.astype(int)\n",
    "\n",
    "#Dropping the outliers\n",
    "#As this is a Adult ASD Screning we will remove people age 17 and under. there is one extreme value in Age with 383 we will drop it.\n",
    "\n",
    "df.drop(df.index[df['age'] <= 17], inplace = True)\n",
    "df.drop(df.index[df['age'] == 383], inplace = True)"
   ]
  },
  {
   "cell_type": "code",
   "execution_count": 16,
   "id": "d9e09d64",
   "metadata": {},
   "outputs": [
    {
     "data": {
      "text/plain": [
       "array([26, 24, 27, 35, 40, 36, 64, 29, 33, 18, 31, 30, 34, 38, 42, 43, 48,\n",
       "       37, 55, 50, 53, 20, 28, 21, 47, 32, 44, 19, 58, 45, 22, 39, 25, 23,\n",
       "       54, 60, 41, 46, 56, 61, 59, 52, 49, 51])"
      ]
     },
     "execution_count": 16,
     "metadata": {},
     "output_type": "execute_result"
    }
   ],
   "source": [
    "df['age'].unique()"
   ]
  },
  {
   "cell_type": "code",
   "execution_count": 17,
   "id": "e344a17f",
   "metadata": {},
   "outputs": [
    {
     "data": {
      "text/plain": [
       "array([ 6,  5,  8,  2,  9, 10,  3,  0,  1,  4,  7])"
      ]
     },
     "execution_count": 17,
     "metadata": {},
     "output_type": "execute_result"
    }
   ],
   "source": [
    "df.result = df.result.astype(int)\n",
    "df['result'].unique()"
   ]
  },
  {
   "cell_type": "code",
   "execution_count": 18,
   "id": "0ae323d3",
   "metadata": {
    "scrolled": true
   },
   "outputs": [
    {
     "data": {
      "text/html": [
       "<div>\n",
       "<style scoped>\n",
       "    .dataframe tbody tr th:only-of-type {\n",
       "        vertical-align: middle;\n",
       "    }\n",
       "\n",
       "    .dataframe tbody tr th {\n",
       "        vertical-align: top;\n",
       "    }\n",
       "\n",
       "    .dataframe thead th {\n",
       "        text-align: right;\n",
       "    }\n",
       "</style>\n",
       "<table border=\"1\" class=\"dataframe\">\n",
       "  <thead>\n",
       "    <tr style=\"text-align: right;\">\n",
       "      <th></th>\n",
       "      <th>A1_Score</th>\n",
       "      <th>A2_Score</th>\n",
       "      <th>A3_Score</th>\n",
       "      <th>A4_Score</th>\n",
       "      <th>A5_Score</th>\n",
       "      <th>A6_Score</th>\n",
       "      <th>A7_Score</th>\n",
       "      <th>A8_Score</th>\n",
       "      <th>A9_Score</th>\n",
       "      <th>A10_Score</th>\n",
       "      <th>age</th>\n",
       "      <th>gender</th>\n",
       "      <th>ethnicity</th>\n",
       "      <th>jaundice</th>\n",
       "      <th>family member with PDD</th>\n",
       "      <th>country_of_res</th>\n",
       "      <th>used_app_before</th>\n",
       "      <th>result</th>\n",
       "      <th>relation</th>\n",
       "      <th>has_ASD</th>\n",
       "    </tr>\n",
       "  </thead>\n",
       "  <tbody>\n",
       "    <tr>\n",
       "      <th>0</th>\n",
       "      <td>1</td>\n",
       "      <td>1</td>\n",
       "      <td>1</td>\n",
       "      <td>1</td>\n",
       "      <td>0</td>\n",
       "      <td>0</td>\n",
       "      <td>1</td>\n",
       "      <td>1</td>\n",
       "      <td>0</td>\n",
       "      <td>0</td>\n",
       "      <td>26</td>\n",
       "      <td>f</td>\n",
       "      <td>White-European</td>\n",
       "      <td>no</td>\n",
       "      <td>no</td>\n",
       "      <td>United States</td>\n",
       "      <td>no</td>\n",
       "      <td>6</td>\n",
       "      <td>Self</td>\n",
       "      <td>NO</td>\n",
       "    </tr>\n",
       "    <tr>\n",
       "      <th>1</th>\n",
       "      <td>1</td>\n",
       "      <td>1</td>\n",
       "      <td>0</td>\n",
       "      <td>1</td>\n",
       "      <td>0</td>\n",
       "      <td>0</td>\n",
       "      <td>0</td>\n",
       "      <td>1</td>\n",
       "      <td>0</td>\n",
       "      <td>1</td>\n",
       "      <td>24</td>\n",
       "      <td>m</td>\n",
       "      <td>Latino</td>\n",
       "      <td>no</td>\n",
       "      <td>yes</td>\n",
       "      <td>Brazil</td>\n",
       "      <td>no</td>\n",
       "      <td>5</td>\n",
       "      <td>Self</td>\n",
       "      <td>NO</td>\n",
       "    </tr>\n",
       "    <tr>\n",
       "      <th>2</th>\n",
       "      <td>1</td>\n",
       "      <td>1</td>\n",
       "      <td>0</td>\n",
       "      <td>1</td>\n",
       "      <td>1</td>\n",
       "      <td>0</td>\n",
       "      <td>1</td>\n",
       "      <td>1</td>\n",
       "      <td>1</td>\n",
       "      <td>1</td>\n",
       "      <td>27</td>\n",
       "      <td>m</td>\n",
       "      <td>Latino</td>\n",
       "      <td>yes</td>\n",
       "      <td>yes</td>\n",
       "      <td>Spain</td>\n",
       "      <td>no</td>\n",
       "      <td>8</td>\n",
       "      <td>Parent</td>\n",
       "      <td>YES</td>\n",
       "    </tr>\n",
       "    <tr>\n",
       "      <th>3</th>\n",
       "      <td>1</td>\n",
       "      <td>1</td>\n",
       "      <td>0</td>\n",
       "      <td>1</td>\n",
       "      <td>0</td>\n",
       "      <td>0</td>\n",
       "      <td>1</td>\n",
       "      <td>1</td>\n",
       "      <td>0</td>\n",
       "      <td>1</td>\n",
       "      <td>35</td>\n",
       "      <td>f</td>\n",
       "      <td>White-European</td>\n",
       "      <td>no</td>\n",
       "      <td>yes</td>\n",
       "      <td>United States</td>\n",
       "      <td>no</td>\n",
       "      <td>6</td>\n",
       "      <td>Self</td>\n",
       "      <td>NO</td>\n",
       "    </tr>\n",
       "    <tr>\n",
       "      <th>4</th>\n",
       "      <td>1</td>\n",
       "      <td>0</td>\n",
       "      <td>0</td>\n",
       "      <td>0</td>\n",
       "      <td>0</td>\n",
       "      <td>0</td>\n",
       "      <td>0</td>\n",
       "      <td>1</td>\n",
       "      <td>0</td>\n",
       "      <td>0</td>\n",
       "      <td>40</td>\n",
       "      <td>f</td>\n",
       "      <td>Others</td>\n",
       "      <td>no</td>\n",
       "      <td>no</td>\n",
       "      <td>Egypt</td>\n",
       "      <td>no</td>\n",
       "      <td>2</td>\n",
       "      <td>Others</td>\n",
       "      <td>NO</td>\n",
       "    </tr>\n",
       "  </tbody>\n",
       "</table>\n",
       "</div>"
      ],
      "text/plain": [
       "   A1_Score  A2_Score  A3_Score  A4_Score  A5_Score  A6_Score  A7_Score  \\\n",
       "0         1         1         1         1         0         0         1   \n",
       "1         1         1         0         1         0         0         0   \n",
       "2         1         1         0         1         1         0         1   \n",
       "3         1         1         0         1         0         0         1   \n",
       "4         1         0         0         0         0         0         0   \n",
       "\n",
       "   A8_Score  A9_Score  A10_Score  age gender       ethnicity jaundice  \\\n",
       "0         1         0          0   26      f  White-European       no   \n",
       "1         1         0          1   24      m          Latino       no   \n",
       "2         1         1          1   27      m          Latino      yes   \n",
       "3         1         0          1   35      f  White-European       no   \n",
       "4         1         0          0   40      f          Others       no   \n",
       "\n",
       "  family member with PDD country_of_res used_app_before  result relation  \\\n",
       "0                     no  United States              no       6     Self   \n",
       "1                    yes         Brazil              no       5     Self   \n",
       "2                    yes          Spain              no       8   Parent   \n",
       "3                    yes  United States              no       6     Self   \n",
       "4                     no          Egypt              no       2   Others   \n",
       "\n",
       "  has_ASD  \n",
       "0      NO  \n",
       "1      NO  \n",
       "2     YES  \n",
       "3      NO  \n",
       "4      NO  "
      ]
     },
     "execution_count": 18,
     "metadata": {},
     "output_type": "execute_result"
    }
   ],
   "source": [
    "df.head()"
   ]
  },
  {
   "cell_type": "code",
   "execution_count": 19,
   "id": "8a2ad80b",
   "metadata": {},
   "outputs": [
    {
     "name": "stdout",
     "output_type": "stream",
     "text": [
      "<class 'pandas.core.frame.DataFrame'>\n",
      "Int64Index: 685 entries, 0 to 703\n",
      "Data columns (total 20 columns):\n",
      " #   Column                  Non-Null Count  Dtype \n",
      "---  ------                  --------------  ----- \n",
      " 0   A1_Score                685 non-null    int64 \n",
      " 1   A2_Score                685 non-null    int64 \n",
      " 2   A3_Score                685 non-null    int64 \n",
      " 3   A4_Score                685 non-null    int64 \n",
      " 4   A5_Score                685 non-null    int64 \n",
      " 5   A6_Score                685 non-null    int64 \n",
      " 6   A7_Score                685 non-null    int64 \n",
      " 7   A8_Score                685 non-null    int64 \n",
      " 8   A9_Score                685 non-null    int64 \n",
      " 9   A10_Score               685 non-null    int64 \n",
      " 10  age                     685 non-null    int32 \n",
      " 11  gender                  685 non-null    object\n",
      " 12  ethnicity               685 non-null    object\n",
      " 13  jaundice                685 non-null    object\n",
      " 14  family member with PDD  685 non-null    object\n",
      " 15  country_of_res          685 non-null    object\n",
      " 16  used_app_before         685 non-null    object\n",
      " 17  result                  685 non-null    int32 \n",
      " 18  relation                685 non-null    object\n",
      " 19  has_ASD                 685 non-null    object\n",
      "dtypes: int32(2), int64(10), object(8)\n",
      "memory usage: 107.0+ KB\n"
     ]
    }
   ],
   "source": [
    "df.info()"
   ]
  },
  {
   "cell_type": "code",
   "execution_count": 20,
   "id": "40ab42b0",
   "metadata": {},
   "outputs": [],
   "source": [
    "#Now data looks clean lets continue\n",
    "#Univariate analysis to see how many People in the dataset have ASD"
   ]
  },
  {
   "cell_type": "code",
   "execution_count": 21,
   "id": "5c17322c",
   "metadata": {},
   "outputs": [
    {
     "data": {
      "text/plain": [
       "array(['f', 'm'], dtype=object)"
      ]
     },
     "execution_count": 21,
     "metadata": {},
     "output_type": "execute_result"
    }
   ],
   "source": [
    "df['gender'].unique()"
   ]
  },
  {
   "cell_type": "code",
   "execution_count": 22,
   "id": "609f9398",
   "metadata": {},
   "outputs": [
    {
     "data": {
      "text/plain": [
       "NO     501\n",
       "YES    184\n",
       "Name: has_ASD, dtype: int64"
      ]
     },
     "execution_count": 22,
     "metadata": {},
     "output_type": "execute_result"
    }
   ],
   "source": [
    "asd=df.has_ASD.value_counts()\n",
    "asd"
   ]
  },
  {
   "cell_type": "code",
   "execution_count": 23,
   "id": "4418f37d",
   "metadata": {},
   "outputs": [
    {
     "data": {
      "image/png": "[encoded data removed]",
      "text/plain": [
       "<Figure size 864x432 with 1 Axes>"
      ]
     },
     "metadata": {},
     "output_type": "display_data"
    }
   ],
   "source": [
    "plt.figure(figsize=(12,6))\n",
    "plt.title('Asd or not')\n",
    "plt.pie(asd, labels = asd.index, autopct = '%1.1f%%', startangle = 150, shadow=True);# autopct to display percentage in the chart using the formating provided, startangle is to change the direction of the pichart portion\n"
   ]
  },
  {
   "cell_type": "code",
   "execution_count": 24,
   "id": "7b138e40",
   "metadata": {},
   "outputs": [],
   "source": [
    "#We can see that out of all the people participated, according to the dataset the people who have ASD is 26.9% "
   ]
  },
  {
   "cell_type": "code",
   "execution_count": 25,
   "id": "391885fd",
   "metadata": {},
   "outputs": [],
   "source": [
    "#Univariate analysis to see how many male and female are in the dataset have ASD"
   ]
  },
  {
   "cell_type": "code",
   "execution_count": 26,
   "id": "41a9b315",
   "metadata": {},
   "outputs": [
    {
     "data": {
      "text/plain": [
       "m    356\n",
       "f    329\n",
       "Name: gender, dtype: int64"
      ]
     },
     "execution_count": 26,
     "metadata": {},
     "output_type": "execute_result"
    }
   ],
   "source": [
    "gender=df.gender.value_counts()\n",
    "gender"
   ]
  },
  {
   "cell_type": "code",
   "execution_count": 27,
   "id": "a65d5eb8",
   "metadata": {
    "scrolled": true
   },
   "outputs": [
    {
     "data": {
      "image/png": "[encoded data removed]",
      "text/plain": [
       "<Figure size 864x432 with 1 Axes>"
      ]
     },
     "metadata": {},
     "output_type": "display_data"
    }
   ],
   "source": [
    "plt.figure(figsize=(12,6))\n",
    "plt.title('Male and Female Participated in ASD screening')\n",
    "plt.pie(gender, labels = gender.index, autopct = '%1.1f%%', startangle = 150, shadow=True);# autopct to display percentage in the chart using the formating provided, startangle is to change the direction of the pichart portion\n"
   ]
  },
  {
   "cell_type": "code",
   "execution_count": 28,
   "id": "347496dd",
   "metadata": {},
   "outputs": [],
   "source": [
    "# From above its clear that there are 52% male and 48% Female participated"
   ]
  },
  {
   "cell_type": "code",
   "execution_count": 29,
   "id": "46d375b5",
   "metadata": {},
   "outputs": [
    {
     "data": {
      "text/plain": [
       "White-European     227\n",
       "Others             122\n",
       "Asian              121\n",
       "Middle Eastern      91\n",
       "Black               39\n",
       "South Asian         35\n",
       "Latino              20\n",
       "Hispanic            13\n",
       "Pasifika            11\n",
       "Turkish              6\n",
       "Name: ethnicity, dtype: int64"
      ]
     },
     "execution_count": 29,
     "metadata": {},
     "output_type": "execute_result"
    }
   ],
   "source": [
    "ethnicity = df.ethnicity.value_counts().sort_values(ascending=False)\n",
    "ethnicity"
   ]
  },
  {
   "cell_type": "code",
   "execution_count": 30,
   "id": "7d36db18",
   "metadata": {},
   "outputs": [
    {
     "data": {
      "image/png": "[encoded data removed]",
      "text/plain": [
       "<Figure size 1440x1080 with 1 Axes>"
      ]
     },
     "metadata": {},
     "output_type": "display_data"
    }
   ],
   "source": [
    "plt.figure(figsize=(20,15))\n",
    "plt.title('Ethnicity of people in ASD screening')\n",
    "plt.pie(ethnicity, labels = ethnicity.index, autopct = '%1.1f%%');# autopct to display percentage in the chart using the formating provided, startangle is to change the direction of the pichart portion\n"
   ]
  },
  {
   "cell_type": "code",
   "execution_count": null,
   "id": "50be5097",
   "metadata": {},
   "outputs": [],
   "source": []
  },
  {
   "cell_type": "code",
   "execution_count": null,
   "id": "2002ab61",
   "metadata": {},
   "outputs": [],
   "source": []
  },
  {
   "cell_type": "code",
   "execution_count": null,
   "id": "4780f46a",
   "metadata": {},
   "outputs": [],
   "source": []
  },
  {
   "cell_type": "code",
   "execution_count": 31,
   "id": "2366cd20",
   "metadata": {},
   "outputs": [
    {
     "data": {
      "image/png": "[encoded data removed]",
      "text/plain": [
       "<Figure size 864x432 with 1 Axes>"
      ]
     },
     "metadata": {
      "needs_background": "light"
     },
     "output_type": "display_data"
    }
   ],
   "source": [
    "#Age distribution of the participats\n",
    "plt.figure(figsize=(12,6))\n",
    "plt.title('Age distribution of the People participated')\n",
    "plt.xlabel('Age')\n",
    "plt.ylabel('Number of participants')\n",
    "plt.hist(df.age,color='orange', edgecolor='white');\n",
    "plt.show()"
   ]
  },
  {
   "cell_type": "code",
   "execution_count": 32,
   "id": "280d95a5",
   "metadata": {},
   "outputs": [
    {
     "data": {
      "text/html": [
       "<div>\n",
       "<style scoped>\n",
       "    .dataframe tbody tr th:only-of-type {\n",
       "        vertical-align: middle;\n",
       "    }\n",
       "\n",
       "    .dataframe tbody tr th {\n",
       "        vertical-align: top;\n",
       "    }\n",
       "\n",
       "    .dataframe thead th {\n",
       "        text-align: right;\n",
       "    }\n",
       "</style>\n",
       "<table border=\"1\" class=\"dataframe\">\n",
       "  <thead>\n",
       "    <tr style=\"text-align: right;\">\n",
       "      <th></th>\n",
       "      <th>A1_Score</th>\n",
       "      <th>A2_Score</th>\n",
       "      <th>A3_Score</th>\n",
       "      <th>A4_Score</th>\n",
       "      <th>A5_Score</th>\n",
       "      <th>A6_Score</th>\n",
       "      <th>A7_Score</th>\n",
       "      <th>A8_Score</th>\n",
       "      <th>A9_Score</th>\n",
       "      <th>A10_Score</th>\n",
       "      <th>age</th>\n",
       "      <th>gender</th>\n",
       "      <th>ethnicity</th>\n",
       "      <th>jaundice</th>\n",
       "      <th>family member with PDD</th>\n",
       "      <th>country_of_res</th>\n",
       "      <th>used_app_before</th>\n",
       "      <th>result</th>\n",
       "      <th>relation</th>\n",
       "      <th>has_ASD</th>\n",
       "    </tr>\n",
       "  </thead>\n",
       "  <tbody>\n",
       "    <tr>\n",
       "      <th>0</th>\n",
       "      <td>1</td>\n",
       "      <td>1</td>\n",
       "      <td>1</td>\n",
       "      <td>1</td>\n",
       "      <td>0</td>\n",
       "      <td>0</td>\n",
       "      <td>1</td>\n",
       "      <td>1</td>\n",
       "      <td>0</td>\n",
       "      <td>0</td>\n",
       "      <td>26</td>\n",
       "      <td>f</td>\n",
       "      <td>White-European</td>\n",
       "      <td>no</td>\n",
       "      <td>no</td>\n",
       "      <td>United States</td>\n",
       "      <td>no</td>\n",
       "      <td>6</td>\n",
       "      <td>Self</td>\n",
       "      <td>NO</td>\n",
       "    </tr>\n",
       "    <tr>\n",
       "      <th>1</th>\n",
       "      <td>1</td>\n",
       "      <td>1</td>\n",
       "      <td>0</td>\n",
       "      <td>1</td>\n",
       "      <td>0</td>\n",
       "      <td>0</td>\n",
       "      <td>0</td>\n",
       "      <td>1</td>\n",
       "      <td>0</td>\n",
       "      <td>1</td>\n",
       "      <td>24</td>\n",
       "      <td>m</td>\n",
       "      <td>Latino</td>\n",
       "      <td>no</td>\n",
       "      <td>yes</td>\n",
       "      <td>Brazil</td>\n",
       "      <td>no</td>\n",
       "      <td>5</td>\n",
       "      <td>Self</td>\n",
       "      <td>NO</td>\n",
       "    </tr>\n",
       "    <tr>\n",
       "      <th>2</th>\n",
       "      <td>1</td>\n",
       "      <td>1</td>\n",
       "      <td>0</td>\n",
       "      <td>1</td>\n",
       "      <td>1</td>\n",
       "      <td>0</td>\n",
       "      <td>1</td>\n",
       "      <td>1</td>\n",
       "      <td>1</td>\n",
       "      <td>1</td>\n",
       "      <td>27</td>\n",
       "      <td>m</td>\n",
       "      <td>Latino</td>\n",
       "      <td>yes</td>\n",
       "      <td>yes</td>\n",
       "      <td>Spain</td>\n",
       "      <td>no</td>\n",
       "      <td>8</td>\n",
       "      <td>Parent</td>\n",
       "      <td>YES</td>\n",
       "    </tr>\n",
       "    <tr>\n",
       "      <th>3</th>\n",
       "      <td>1</td>\n",
       "      <td>1</td>\n",
       "      <td>0</td>\n",
       "      <td>1</td>\n",
       "      <td>0</td>\n",
       "      <td>0</td>\n",
       "      <td>1</td>\n",
       "      <td>1</td>\n",
       "      <td>0</td>\n",
       "      <td>1</td>\n",
       "      <td>35</td>\n",
       "      <td>f</td>\n",
       "      <td>White-European</td>\n",
       "      <td>no</td>\n",
       "      <td>yes</td>\n",
       "      <td>United States</td>\n",
       "      <td>no</td>\n",
       "      <td>6</td>\n",
       "      <td>Self</td>\n",
       "      <td>NO</td>\n",
       "    </tr>\n",
       "    <tr>\n",
       "      <th>4</th>\n",
       "      <td>1</td>\n",
       "      <td>0</td>\n",
       "      <td>0</td>\n",
       "      <td>0</td>\n",
       "      <td>0</td>\n",
       "      <td>0</td>\n",
       "      <td>0</td>\n",
       "      <td>1</td>\n",
       "      <td>0</td>\n",
       "      <td>0</td>\n",
       "      <td>40</td>\n",
       "      <td>f</td>\n",
       "      <td>Others</td>\n",
       "      <td>no</td>\n",
       "      <td>no</td>\n",
       "      <td>Egypt</td>\n",
       "      <td>no</td>\n",
       "      <td>2</td>\n",
       "      <td>Others</td>\n",
       "      <td>NO</td>\n",
       "    </tr>\n",
       "    <tr>\n",
       "      <th>...</th>\n",
       "      <td>...</td>\n",
       "      <td>...</td>\n",
       "      <td>...</td>\n",
       "      <td>...</td>\n",
       "      <td>...</td>\n",
       "      <td>...</td>\n",
       "      <td>...</td>\n",
       "      <td>...</td>\n",
       "      <td>...</td>\n",
       "      <td>...</td>\n",
       "      <td>...</td>\n",
       "      <td>...</td>\n",
       "      <td>...</td>\n",
       "      <td>...</td>\n",
       "      <td>...</td>\n",
       "      <td>...</td>\n",
       "      <td>...</td>\n",
       "      <td>...</td>\n",
       "      <td>...</td>\n",
       "      <td>...</td>\n",
       "    </tr>\n",
       "    <tr>\n",
       "      <th>699</th>\n",
       "      <td>0</td>\n",
       "      <td>1</td>\n",
       "      <td>0</td>\n",
       "      <td>1</td>\n",
       "      <td>1</td>\n",
       "      <td>0</td>\n",
       "      <td>1</td>\n",
       "      <td>1</td>\n",
       "      <td>1</td>\n",
       "      <td>1</td>\n",
       "      <td>25</td>\n",
       "      <td>f</td>\n",
       "      <td>White-European</td>\n",
       "      <td>no</td>\n",
       "      <td>no</td>\n",
       "      <td>Russia</td>\n",
       "      <td>no</td>\n",
       "      <td>7</td>\n",
       "      <td>Self</td>\n",
       "      <td>YES</td>\n",
       "    </tr>\n",
       "    <tr>\n",
       "      <th>700</th>\n",
       "      <td>1</td>\n",
       "      <td>0</td>\n",
       "      <td>0</td>\n",
       "      <td>0</td>\n",
       "      <td>0</td>\n",
       "      <td>0</td>\n",
       "      <td>0</td>\n",
       "      <td>1</td>\n",
       "      <td>0</td>\n",
       "      <td>1</td>\n",
       "      <td>34</td>\n",
       "      <td>m</td>\n",
       "      <td>Hispanic</td>\n",
       "      <td>no</td>\n",
       "      <td>no</td>\n",
       "      <td>Mexico</td>\n",
       "      <td>no</td>\n",
       "      <td>3</td>\n",
       "      <td>Parent</td>\n",
       "      <td>NO</td>\n",
       "    </tr>\n",
       "    <tr>\n",
       "      <th>701</th>\n",
       "      <td>1</td>\n",
       "      <td>0</td>\n",
       "      <td>1</td>\n",
       "      <td>1</td>\n",
       "      <td>1</td>\n",
       "      <td>0</td>\n",
       "      <td>1</td>\n",
       "      <td>1</td>\n",
       "      <td>0</td>\n",
       "      <td>1</td>\n",
       "      <td>24</td>\n",
       "      <td>f</td>\n",
       "      <td>Others</td>\n",
       "      <td>no</td>\n",
       "      <td>no</td>\n",
       "      <td>Russia</td>\n",
       "      <td>no</td>\n",
       "      <td>7</td>\n",
       "      <td>Others</td>\n",
       "      <td>YES</td>\n",
       "    </tr>\n",
       "    <tr>\n",
       "      <th>702</th>\n",
       "      <td>1</td>\n",
       "      <td>0</td>\n",
       "      <td>0</td>\n",
       "      <td>1</td>\n",
       "      <td>1</td>\n",
       "      <td>0</td>\n",
       "      <td>1</td>\n",
       "      <td>0</td>\n",
       "      <td>1</td>\n",
       "      <td>1</td>\n",
       "      <td>35</td>\n",
       "      <td>m</td>\n",
       "      <td>South Asian</td>\n",
       "      <td>no</td>\n",
       "      <td>no</td>\n",
       "      <td>Pakistan</td>\n",
       "      <td>no</td>\n",
       "      <td>6</td>\n",
       "      <td>Self</td>\n",
       "      <td>NO</td>\n",
       "    </tr>\n",
       "    <tr>\n",
       "      <th>703</th>\n",
       "      <td>1</td>\n",
       "      <td>0</td>\n",
       "      <td>1</td>\n",
       "      <td>1</td>\n",
       "      <td>1</td>\n",
       "      <td>0</td>\n",
       "      <td>1</td>\n",
       "      <td>1</td>\n",
       "      <td>1</td>\n",
       "      <td>1</td>\n",
       "      <td>26</td>\n",
       "      <td>f</td>\n",
       "      <td>White-European</td>\n",
       "      <td>no</td>\n",
       "      <td>no</td>\n",
       "      <td>Cyprus</td>\n",
       "      <td>no</td>\n",
       "      <td>8</td>\n",
       "      <td>Self</td>\n",
       "      <td>YES</td>\n",
       "    </tr>\n",
       "  </tbody>\n",
       "</table>\n",
       "<p>685 rows × 20 columns</p>\n",
       "</div>"
      ],
      "text/plain": [
       "     A1_Score  A2_Score  A3_Score  A4_Score  A5_Score  A6_Score  A7_Score  \\\n",
       "0           1         1         1         1         0         0         1   \n",
       "1           1         1         0         1         0         0         0   \n",
       "2           1         1         0         1         1         0         1   \n",
       "3           1         1         0         1         0         0         1   \n",
       "4           1         0         0         0         0         0         0   \n",
       "..        ...       ...       ...       ...       ...       ...       ...   \n",
       "699         0         1         0         1         1         0         1   \n",
       "700         1         0         0         0         0         0         0   \n",
       "701         1         0         1         1         1         0         1   \n",
       "702         1         0         0         1         1         0         1   \n",
       "703         1         0         1         1         1         0         1   \n",
       "\n",
       "     A8_Score  A9_Score  A10_Score  age gender       ethnicity jaundice  \\\n",
       "0           1         0          0   26      f  White-European       no   \n",
       "1           1         0          1   24      m          Latino       no   \n",
       "2           1         1          1   27      m          Latino      yes   \n",
       "3           1         0          1   35      f  White-European       no   \n",
       "4           1         0          0   40      f          Others       no   \n",
       "..        ...       ...        ...  ...    ...             ...      ...   \n",
       "699         1         1          1   25      f  White-European       no   \n",
       "700         1         0          1   34      m        Hispanic       no   \n",
       "701         1         0          1   24      f          Others       no   \n",
       "702         0         1          1   35      m     South Asian       no   \n",
       "703         1         1          1   26      f  White-European       no   \n",
       "\n",
       "    family member with PDD country_of_res used_app_before  result relation  \\\n",
       "0                       no  United States              no       6     Self   \n",
       "1                      yes         Brazil              no       5     Self   \n",
       "2                      yes          Spain              no       8   Parent   \n",
       "3                      yes  United States              no       6     Self   \n",
       "4                       no          Egypt              no       2   Others   \n",
       "..                     ...            ...             ...     ...      ...   \n",
       "699                     no         Russia              no       7     Self   \n",
       "700                     no         Mexico              no       3   Parent   \n",
       "701                     no         Russia              no       7   Others   \n",
       "702                     no       Pakistan              no       6     Self   \n",
       "703                     no         Cyprus              no       8     Self   \n",
       "\n",
       "    has_ASD  \n",
       "0        NO  \n",
       "1        NO  \n",
       "2       YES  \n",
       "3        NO  \n",
       "4        NO  \n",
       "..      ...  \n",
       "699     YES  \n",
       "700      NO  \n",
       "701     YES  \n",
       "702      NO  \n",
       "703     YES  \n",
       "\n",
       "[685 rows x 20 columns]"
      ]
     },
     "execution_count": 32,
     "metadata": {},
     "output_type": "execute_result"
    }
   ],
   "source": [
    "df"
   ]
  },
  {
   "cell_type": "code",
   "execution_count": 34,
   "id": "8ea62788",
   "metadata": {},
   "outputs": [],
   "source": [
    "#Defining Target and Independent Features\n",
    "df['ASD']=np.where(df['has_ASD']==\"YES\",1,0)\n",
    "df=df.drop(['has_ASD'],axis=1)"
   ]
  },
  {
   "cell_type": "code",
   "execution_count": null,
   "id": "65cf5441",
   "metadata": {},
   "outputs": [],
   "source": []
  },
  {
   "cell_type": "code",
   "execution_count": 35,
   "id": "eeee39cd",
   "metadata": {},
   "outputs": [],
   "source": [
    "#Corelation Matrix\n",
    "df_num=df[['A1_Score','A2_Score','A3_Score','A4_Score','A5_Score','A6_Score','A7_Score','A8_Score','A9_Score','A10_Score','age','gender','ethnicity','jaundice','family member with PDD','country_of_res','used_app_before','result','relation','ASD']]\n"
   ]
  },
  {
   "cell_type": "code",
   "execution_count": 36,
   "id": "7fbceac1",
   "metadata": {},
   "outputs": [],
   "source": [
    "df_num['family member with PDD']= np.where(df_num['family member with PDD']=='yes', 1,0)\n",
    "df_num['jaundice']= np.where(df_num['jaundice']=='yes', 1,0)"
   ]
  },
  {
   "cell_type": "code",
   "execution_count": 37,
   "id": "2585f2da",
   "metadata": {},
   "outputs": [],
   "source": [
    "df_num['used_app_before']= np.where(df_num['used_app_before']=='yes', 1,0)"
   ]
  },
  {
   "cell_type": "code",
   "execution_count": 38,
   "id": "a2f4635d",
   "metadata": {},
   "outputs": [],
   "source": [
    "df_num['gender']= np.where(df_num['gender']=='m', 1,0)"
   ]
  },
  {
   "cell_type": "code",
   "execution_count": 39,
   "id": "fd1064dd",
   "metadata": {},
   "outputs": [
    {
     "data": {
      "text/html": [
       "<div>\n",
       "<style scoped>\n",
       "    .dataframe tbody tr th:only-of-type {\n",
       "        vertical-align: middle;\n",
       "    }\n",
       "\n",
       "    .dataframe tbody tr th {\n",
       "        vertical-align: top;\n",
       "    }\n",
       "\n",
       "    .dataframe thead th {\n",
       "        text-align: right;\n",
       "    }\n",
       "</style>\n",
       "<table border=\"1\" class=\"dataframe\">\n",
       "  <thead>\n",
       "    <tr style=\"text-align: right;\">\n",
       "      <th></th>\n",
       "      <th>A1_Score</th>\n",
       "      <th>A2_Score</th>\n",
       "      <th>A3_Score</th>\n",
       "      <th>A4_Score</th>\n",
       "      <th>A5_Score</th>\n",
       "      <th>A6_Score</th>\n",
       "      <th>A7_Score</th>\n",
       "      <th>A8_Score</th>\n",
       "      <th>A9_Score</th>\n",
       "      <th>A10_Score</th>\n",
       "      <th>age</th>\n",
       "      <th>gender</th>\n",
       "      <th>ethnicity</th>\n",
       "      <th>jaundice</th>\n",
       "      <th>family member with PDD</th>\n",
       "      <th>country_of_res</th>\n",
       "      <th>used_app_before</th>\n",
       "      <th>result</th>\n",
       "      <th>relation</th>\n",
       "      <th>ASD</th>\n",
       "    </tr>\n",
       "  </thead>\n",
       "  <tbody>\n",
       "    <tr>\n",
       "      <th>0</th>\n",
       "      <td>1</td>\n",
       "      <td>1</td>\n",
       "      <td>1</td>\n",
       "      <td>1</td>\n",
       "      <td>0</td>\n",
       "      <td>0</td>\n",
       "      <td>1</td>\n",
       "      <td>1</td>\n",
       "      <td>0</td>\n",
       "      <td>0</td>\n",
       "      <td>26</td>\n",
       "      <td>0</td>\n",
       "      <td>White-European</td>\n",
       "      <td>0</td>\n",
       "      <td>0</td>\n",
       "      <td>United States</td>\n",
       "      <td>0</td>\n",
       "      <td>6</td>\n",
       "      <td>Self</td>\n",
       "      <td>0</td>\n",
       "    </tr>\n",
       "    <tr>\n",
       "      <th>1</th>\n",
       "      <td>1</td>\n",
       "      <td>1</td>\n",
       "      <td>0</td>\n",
       "      <td>1</td>\n",
       "      <td>0</td>\n",
       "      <td>0</td>\n",
       "      <td>0</td>\n",
       "      <td>1</td>\n",
       "      <td>0</td>\n",
       "      <td>1</td>\n",
       "      <td>24</td>\n",
       "      <td>1</td>\n",
       "      <td>Latino</td>\n",
       "      <td>0</td>\n",
       "      <td>1</td>\n",
       "      <td>Brazil</td>\n",
       "      <td>0</td>\n",
       "      <td>5</td>\n",
       "      <td>Self</td>\n",
       "      <td>0</td>\n",
       "    </tr>\n",
       "    <tr>\n",
       "      <th>2</th>\n",
       "      <td>1</td>\n",
       "      <td>1</td>\n",
       "      <td>0</td>\n",
       "      <td>1</td>\n",
       "      <td>1</td>\n",
       "      <td>0</td>\n",
       "      <td>1</td>\n",
       "      <td>1</td>\n",
       "      <td>1</td>\n",
       "      <td>1</td>\n",
       "      <td>27</td>\n",
       "      <td>1</td>\n",
       "      <td>Latino</td>\n",
       "      <td>1</td>\n",
       "      <td>1</td>\n",
       "      <td>Spain</td>\n",
       "      <td>0</td>\n",
       "      <td>8</td>\n",
       "      <td>Parent</td>\n",
       "      <td>1</td>\n",
       "    </tr>\n",
       "    <tr>\n",
       "      <th>3</th>\n",
       "      <td>1</td>\n",
       "      <td>1</td>\n",
       "      <td>0</td>\n",
       "      <td>1</td>\n",
       "      <td>0</td>\n",
       "      <td>0</td>\n",
       "      <td>1</td>\n",
       "      <td>1</td>\n",
       "      <td>0</td>\n",
       "      <td>1</td>\n",
       "      <td>35</td>\n",
       "      <td>0</td>\n",
       "      <td>White-European</td>\n",
       "      <td>0</td>\n",
       "      <td>1</td>\n",
       "      <td>United States</td>\n",
       "      <td>0</td>\n",
       "      <td>6</td>\n",
       "      <td>Self</td>\n",
       "      <td>0</td>\n",
       "    </tr>\n",
       "    <tr>\n",
       "      <th>4</th>\n",
       "      <td>1</td>\n",
       "      <td>0</td>\n",
       "      <td>0</td>\n",
       "      <td>0</td>\n",
       "      <td>0</td>\n",
       "      <td>0</td>\n",
       "      <td>0</td>\n",
       "      <td>1</td>\n",
       "      <td>0</td>\n",
       "      <td>0</td>\n",
       "      <td>40</td>\n",
       "      <td>0</td>\n",
       "      <td>Others</td>\n",
       "      <td>0</td>\n",
       "      <td>0</td>\n",
       "      <td>Egypt</td>\n",
       "      <td>0</td>\n",
       "      <td>2</td>\n",
       "      <td>Others</td>\n",
       "      <td>0</td>\n",
       "    </tr>\n",
       "  </tbody>\n",
       "</table>\n",
       "</div>"
      ],
      "text/plain": [
       "   A1_Score  A2_Score  A3_Score  A4_Score  A5_Score  A6_Score  A7_Score  \\\n",
       "0         1         1         1         1         0         0         1   \n",
       "1         1         1         0         1         0         0         0   \n",
       "2         1         1         0         1         1         0         1   \n",
       "3         1         1         0         1         0         0         1   \n",
       "4         1         0         0         0         0         0         0   \n",
       "\n",
       "   A8_Score  A9_Score  A10_Score  age  gender       ethnicity  jaundice  \\\n",
       "0         1         0          0   26       0  White-European         0   \n",
       "1         1         0          1   24       1          Latino         0   \n",
       "2         1         1          1   27       1          Latino         1   \n",
       "3         1         0          1   35       0  White-European         0   \n",
       "4         1         0          0   40       0          Others         0   \n",
       "\n",
       "   family member with PDD country_of_res  used_app_before  result relation  \\\n",
       "0                       0  United States                0       6     Self   \n",
       "1                       1         Brazil                0       5     Self   \n",
       "2                       1          Spain                0       8   Parent   \n",
       "3                       1  United States                0       6     Self   \n",
       "4                       0          Egypt                0       2   Others   \n",
       "\n",
       "   ASD  \n",
       "0    0  \n",
       "1    0  \n",
       "2    1  \n",
       "3    0  \n",
       "4    0  "
      ]
     },
     "execution_count": 39,
     "metadata": {},
     "output_type": "execute_result"
    }
   ],
   "source": [
    "df_num.head()"
   ]
  },
  {
   "cell_type": "code",
   "execution_count": 40,
   "id": "fd3945e2",
   "metadata": {},
   "outputs": [
    {
     "data": {
      "image/png": "[encoded data removed]",
      "text/plain": [
       "<Figure size 1440x1080 with 2 Axes>"
      ]
     },
     "metadata": {
      "needs_background": "light"
     },
     "output_type": "display_data"
    }
   ],
   "source": [
    "cor = df_num.corr(method= 'pearson')\n",
    "plt.figure(figsize =(20,15))\n",
    "sns.heatmap(cor,cmap='Blues',annot = True, square=True);\n",
    "plt.show()\n"
   ]
  },
  {
   "cell_type": "code",
   "execution_count": 41,
   "id": "8fbce07d",
   "metadata": {
    "scrolled": true
   },
   "outputs": [
    {
     "data": {
      "text/html": [
       "<div>\n",
       "<style scoped>\n",
       "    .dataframe tbody tr th:only-of-type {\n",
       "        vertical-align: middle;\n",
       "    }\n",
       "\n",
       "    .dataframe tbody tr th {\n",
       "        vertical-align: top;\n",
       "    }\n",
       "\n",
       "    .dataframe thead th {\n",
       "        text-align: right;\n",
       "    }\n",
       "</style>\n",
       "<table border=\"1\" class=\"dataframe\">\n",
       "  <thead>\n",
       "    <tr style=\"text-align: right;\">\n",
       "      <th></th>\n",
       "      <th>A1_Score</th>\n",
       "      <th>A2_Score</th>\n",
       "      <th>A3_Score</th>\n",
       "      <th>A4_Score</th>\n",
       "      <th>A5_Score</th>\n",
       "      <th>A6_Score</th>\n",
       "      <th>A7_Score</th>\n",
       "      <th>A8_Score</th>\n",
       "      <th>A9_Score</th>\n",
       "      <th>A10_Score</th>\n",
       "      <th>age</th>\n",
       "      <th>gender</th>\n",
       "      <th>jaundice</th>\n",
       "      <th>family member with PDD</th>\n",
       "      <th>used_app_before</th>\n",
       "      <th>result</th>\n",
       "      <th>ASD</th>\n",
       "    </tr>\n",
       "  </thead>\n",
       "  <tbody>\n",
       "    <tr>\n",
       "      <th>A1_Score</th>\n",
       "      <td>1.000000</td>\n",
       "      <td>0.018940</td>\n",
       "      <td>0.072887</td>\n",
       "      <td>0.126659</td>\n",
       "      <td>0.176571</td>\n",
       "      <td>0.112791</td>\n",
       "      <td>0.217492</td>\n",
       "      <td>0.158441</td>\n",
       "      <td>0.149413</td>\n",
       "      <td>0.114437</td>\n",
       "      <td>0.015444</td>\n",
       "      <td>-0.082468</td>\n",
       "      <td>-0.026443</td>\n",
       "      <td>0.094988</td>\n",
       "      <td>-0.040047</td>\n",
       "      <td>0.402907</td>\n",
       "      <td>0.299028</td>\n",
       "    </tr>\n",
       "    <tr>\n",
       "      <th>A2_Score</th>\n",
       "      <td>0.018940</td>\n",
       "      <td>1.000000</td>\n",
       "      <td>0.232067</td>\n",
       "      <td>0.167648</td>\n",
       "      <td>0.157484</td>\n",
       "      <td>0.186320</td>\n",
       "      <td>-0.037812</td>\n",
       "      <td>0.042813</td>\n",
       "      <td>0.205961</td>\n",
       "      <td>0.091564</td>\n",
       "      <td>0.081058</td>\n",
       "      <td>-0.041945</td>\n",
       "      <td>0.108669</td>\n",
       "      <td>0.078129</td>\n",
       "      <td>-0.010405</td>\n",
       "      <td>0.404905</td>\n",
       "      <td>0.318722</td>\n",
       "    </tr>\n",
       "    <tr>\n",
       "      <th>A3_Score</th>\n",
       "      <td>0.072887</td>\n",
       "      <td>0.232067</td>\n",
       "      <td>1.000000</td>\n",
       "      <td>0.399164</td>\n",
       "      <td>0.259996</td>\n",
       "      <td>0.262482</td>\n",
       "      <td>0.078704</td>\n",
       "      <td>0.020290</td>\n",
       "      <td>0.310325</td>\n",
       "      <td>0.165154</td>\n",
       "      <td>0.104054</td>\n",
       "      <td>-0.003922</td>\n",
       "      <td>0.048093</td>\n",
       "      <td>0.103258</td>\n",
       "      <td>0.056221</td>\n",
       "      <td>0.547983</td>\n",
       "      <td>0.442488</td>\n",
       "    </tr>\n",
       "    <tr>\n",
       "      <th>A4_Score</th>\n",
       "      <td>0.126659</td>\n",
       "      <td>0.167648</td>\n",
       "      <td>0.399164</td>\n",
       "      <td>1.000000</td>\n",
       "      <td>0.299368</td>\n",
       "      <td>0.285087</td>\n",
       "      <td>0.150844</td>\n",
       "      <td>0.007912</td>\n",
       "      <td>0.319005</td>\n",
       "      <td>0.206576</td>\n",
       "      <td>0.114477</td>\n",
       "      <td>-0.065345</td>\n",
       "      <td>0.052814</td>\n",
       "      <td>0.187173</td>\n",
       "      <td>0.023621</td>\n",
       "      <td>0.578904</td>\n",
       "      <td>0.467323</td>\n",
       "    </tr>\n",
       "    <tr>\n",
       "      <th>A5_Score</th>\n",
       "      <td>0.176571</td>\n",
       "      <td>0.157484</td>\n",
       "      <td>0.259996</td>\n",
       "      <td>0.299368</td>\n",
       "      <td>1.000000</td>\n",
       "      <td>0.390714</td>\n",
       "      <td>0.242777</td>\n",
       "      <td>0.100448</td>\n",
       "      <td>0.394204</td>\n",
       "      <td>0.268929</td>\n",
       "      <td>-0.001911</td>\n",
       "      <td>-0.042658</td>\n",
       "      <td>0.027302</td>\n",
       "      <td>0.101909</td>\n",
       "      <td>-0.000975</td>\n",
       "      <td>0.639323</td>\n",
       "      <td>0.542330</td>\n",
       "    </tr>\n",
       "    <tr>\n",
       "      <th>A6_Score</th>\n",
       "      <td>0.112791</td>\n",
       "      <td>0.186320</td>\n",
       "      <td>0.262482</td>\n",
       "      <td>0.285087</td>\n",
       "      <td>0.390714</td>\n",
       "      <td>1.000000</td>\n",
       "      <td>0.174733</td>\n",
       "      <td>0.102996</td>\n",
       "      <td>0.471630</td>\n",
       "      <td>0.301128</td>\n",
       "      <td>0.098692</td>\n",
       "      <td>-0.089648</td>\n",
       "      <td>0.069267</td>\n",
       "      <td>0.116948</td>\n",
       "      <td>0.088947</td>\n",
       "      <td>0.627124</td>\n",
       "      <td>0.591304</td>\n",
       "    </tr>\n",
       "    <tr>\n",
       "      <th>A7_Score</th>\n",
       "      <td>0.217492</td>\n",
       "      <td>-0.037812</td>\n",
       "      <td>0.078704</td>\n",
       "      <td>0.150844</td>\n",
       "      <td>0.242777</td>\n",
       "      <td>0.174733</td>\n",
       "      <td>1.000000</td>\n",
       "      <td>0.076372</td>\n",
       "      <td>0.183349</td>\n",
       "      <td>0.248424</td>\n",
       "      <td>0.008396</td>\n",
       "      <td>0.055770</td>\n",
       "      <td>0.026477</td>\n",
       "      <td>-0.013148</td>\n",
       "      <td>-0.022027</td>\n",
       "      <td>0.452661</td>\n",
       "      <td>0.345731</td>\n",
       "    </tr>\n",
       "    <tr>\n",
       "      <th>A8_Score</th>\n",
       "      <td>0.158441</td>\n",
       "      <td>0.042813</td>\n",
       "      <td>0.020290</td>\n",
       "      <td>0.007912</td>\n",
       "      <td>0.100448</td>\n",
       "      <td>0.102996</td>\n",
       "      <td>0.076372</td>\n",
       "      <td>1.000000</td>\n",
       "      <td>0.097102</td>\n",
       "      <td>0.096930</td>\n",
       "      <td>-0.079357</td>\n",
       "      <td>0.062475</td>\n",
       "      <td>0.008685</td>\n",
       "      <td>0.031612</td>\n",
       "      <td>-0.043234</td>\n",
       "      <td>0.324061</td>\n",
       "      <td>0.233067</td>\n",
       "    </tr>\n",
       "    <tr>\n",
       "      <th>A9_Score</th>\n",
       "      <td>0.149413</td>\n",
       "      <td>0.205961</td>\n",
       "      <td>0.310325</td>\n",
       "      <td>0.319005</td>\n",
       "      <td>0.394204</td>\n",
       "      <td>0.471630</td>\n",
       "      <td>0.183349</td>\n",
       "      <td>0.097102</td>\n",
       "      <td>1.000000</td>\n",
       "      <td>0.289737</td>\n",
       "      <td>0.132826</td>\n",
       "      <td>0.003901</td>\n",
       "      <td>0.048734</td>\n",
       "      <td>0.162946</td>\n",
       "      <td>0.050188</td>\n",
       "      <td>0.656662</td>\n",
       "      <td>0.628894</td>\n",
       "    </tr>\n",
       "    <tr>\n",
       "      <th>A10_Score</th>\n",
       "      <td>0.114437</td>\n",
       "      <td>0.091564</td>\n",
       "      <td>0.165154</td>\n",
       "      <td>0.206576</td>\n",
       "      <td>0.268929</td>\n",
       "      <td>0.301128</td>\n",
       "      <td>0.248424</td>\n",
       "      <td>0.096930</td>\n",
       "      <td>0.289737</td>\n",
       "      <td>1.000000</td>\n",
       "      <td>0.054470</td>\n",
       "      <td>-0.069251</td>\n",
       "      <td>0.052306</td>\n",
       "      <td>0.120289</td>\n",
       "      <td>-0.041995</td>\n",
       "      <td>0.540747</td>\n",
       "      <td>0.390797</td>\n",
       "    </tr>\n",
       "    <tr>\n",
       "      <th>age</th>\n",
       "      <td>0.015444</td>\n",
       "      <td>0.081058</td>\n",
       "      <td>0.104054</td>\n",
       "      <td>0.114477</td>\n",
       "      <td>-0.001911</td>\n",
       "      <td>0.098692</td>\n",
       "      <td>0.008396</td>\n",
       "      <td>-0.079357</td>\n",
       "      <td>0.132826</td>\n",
       "      <td>0.054470</td>\n",
       "      <td>1.000000</td>\n",
       "      <td>-0.028267</td>\n",
       "      <td>0.140993</td>\n",
       "      <td>0.192258</td>\n",
       "      <td>-0.040757</td>\n",
       "      <td>0.102178</td>\n",
       "      <td>0.137390</td>\n",
       "    </tr>\n",
       "    <tr>\n",
       "      <th>gender</th>\n",
       "      <td>-0.082468</td>\n",
       "      <td>-0.041945</td>\n",
       "      <td>-0.003922</td>\n",
       "      <td>-0.065345</td>\n",
       "      <td>-0.042658</td>\n",
       "      <td>-0.089648</td>\n",
       "      <td>0.055770</td>\n",
       "      <td>0.062475</td>\n",
       "      <td>0.003901</td>\n",
       "      <td>-0.069251</td>\n",
       "      <td>-0.028267</td>\n",
       "      <td>1.000000</td>\n",
       "      <td>-0.032686</td>\n",
       "      <td>-0.093737</td>\n",
       "      <td>-0.027540</td>\n",
       "      <td>-0.051839</td>\n",
       "      <td>-0.089829</td>\n",
       "    </tr>\n",
       "    <tr>\n",
       "      <th>jaundice</th>\n",
       "      <td>-0.026443</td>\n",
       "      <td>0.108669</td>\n",
       "      <td>0.048093</td>\n",
       "      <td>0.052814</td>\n",
       "      <td>0.027302</td>\n",
       "      <td>0.069267</td>\n",
       "      <td>0.026477</td>\n",
       "      <td>0.008685</td>\n",
       "      <td>0.048734</td>\n",
       "      <td>0.052306</td>\n",
       "      <td>0.140993</td>\n",
       "      <td>-0.032686</td>\n",
       "      <td>1.000000</td>\n",
       "      <td>0.155564</td>\n",
       "      <td>0.031821</td>\n",
       "      <td>0.081338</td>\n",
       "      <td>0.092328</td>\n",
       "    </tr>\n",
       "    <tr>\n",
       "      <th>family member with PDD</th>\n",
       "      <td>0.094988</td>\n",
       "      <td>0.078129</td>\n",
       "      <td>0.103258</td>\n",
       "      <td>0.187173</td>\n",
       "      <td>0.101909</td>\n",
       "      <td>0.116948</td>\n",
       "      <td>-0.013148</td>\n",
       "      <td>0.031612</td>\n",
       "      <td>0.162946</td>\n",
       "      <td>0.120289</td>\n",
       "      <td>0.192258</td>\n",
       "      <td>-0.093737</td>\n",
       "      <td>0.155564</td>\n",
       "      <td>1.000000</td>\n",
       "      <td>0.015244</td>\n",
       "      <td>0.189891</td>\n",
       "      <td>0.170897</td>\n",
       "    </tr>\n",
       "    <tr>\n",
       "      <th>used_app_before</th>\n",
       "      <td>-0.040047</td>\n",
       "      <td>-0.010405</td>\n",
       "      <td>0.056221</td>\n",
       "      <td>0.023621</td>\n",
       "      <td>-0.000975</td>\n",
       "      <td>0.088947</td>\n",
       "      <td>-0.022027</td>\n",
       "      <td>-0.043234</td>\n",
       "      <td>0.050188</td>\n",
       "      <td>-0.041995</td>\n",
       "      <td>-0.040757</td>\n",
       "      <td>-0.027540</td>\n",
       "      <td>0.031821</td>\n",
       "      <td>0.015244</td>\n",
       "      <td>1.000000</td>\n",
       "      <td>0.011003</td>\n",
       "      <td>0.044603</td>\n",
       "    </tr>\n",
       "    <tr>\n",
       "      <th>result</th>\n",
       "      <td>0.402907</td>\n",
       "      <td>0.404905</td>\n",
       "      <td>0.547983</td>\n",
       "      <td>0.578904</td>\n",
       "      <td>0.639323</td>\n",
       "      <td>0.627124</td>\n",
       "      <td>0.452661</td>\n",
       "      <td>0.324061</td>\n",
       "      <td>0.656662</td>\n",
       "      <td>0.540747</td>\n",
       "      <td>0.102178</td>\n",
       "      <td>-0.051839</td>\n",
       "      <td>0.081338</td>\n",
       "      <td>0.189891</td>\n",
       "      <td>0.011003</td>\n",
       "      <td>1.000000</td>\n",
       "      <td>0.821659</td>\n",
       "    </tr>\n",
       "    <tr>\n",
       "      <th>ASD</th>\n",
       "      <td>0.299028</td>\n",
       "      <td>0.318722</td>\n",
       "      <td>0.442488</td>\n",
       "      <td>0.467323</td>\n",
       "      <td>0.542330</td>\n",
       "      <td>0.591304</td>\n",
       "      <td>0.345731</td>\n",
       "      <td>0.233067</td>\n",
       "      <td>0.628894</td>\n",
       "      <td>0.390797</td>\n",
       "      <td>0.137390</td>\n",
       "      <td>-0.089829</td>\n",
       "      <td>0.092328</td>\n",
       "      <td>0.170897</td>\n",
       "      <td>0.044603</td>\n",
       "      <td>0.821659</td>\n",
       "      <td>1.000000</td>\n",
       "    </tr>\n",
       "  </tbody>\n",
       "</table>\n",
       "</div>"
      ],
      "text/plain": [
       "                        A1_Score  A2_Score  A3_Score  A4_Score  A5_Score  \\\n",
       "A1_Score                1.000000  0.018940  0.072887  0.126659  0.176571   \n",
       "A2_Score                0.018940  1.000000  0.232067  0.167648  0.157484   \n",
       "A3_Score                0.072887  0.232067  1.000000  0.399164  0.259996   \n",
       "A4_Score                0.126659  0.167648  0.399164  1.000000  0.299368   \n",
       "A5_Score                0.176571  0.157484  0.259996  0.299368  1.000000   \n",
       "A6_Score                0.112791  0.186320  0.262482  0.285087  0.390714   \n",
       "A7_Score                0.217492 -0.037812  0.078704  0.150844  0.242777   \n",
       "A8_Score                0.158441  0.042813  0.020290  0.007912  0.100448   \n",
       "A9_Score                0.149413  0.205961  0.310325  0.319005  0.394204   \n",
       "A10_Score               0.114437  0.091564  0.165154  0.206576  0.268929   \n",
       "age                     0.015444  0.081058  0.104054  0.114477 -0.001911   \n",
       "gender                 -0.082468 -0.041945 -0.003922 -0.065345 -0.042658   \n",
       "jaundice               -0.026443  0.108669  0.048093  0.052814  0.027302   \n",
       "family member with PDD  0.094988  0.078129  0.103258  0.187173  0.101909   \n",
       "used_app_before        -0.040047 -0.010405  0.056221  0.023621 -0.000975   \n",
       "result                  0.402907  0.404905  0.547983  0.578904  0.639323   \n",
       "ASD                     0.299028  0.318722  0.442488  0.467323  0.542330   \n",
       "\n",
       "                        A6_Score  A7_Score  A8_Score  A9_Score  A10_Score  \\\n",
       "A1_Score                0.112791  0.217492  0.158441  0.149413   0.114437   \n",
       "A2_Score                0.186320 -0.037812  0.042813  0.205961   0.091564   \n",
       "A3_Score                0.262482  0.078704  0.020290  0.310325   0.165154   \n",
       "A4_Score                0.285087  0.150844  0.007912  0.319005   0.206576   \n",
       "A5_Score                0.390714  0.242777  0.100448  0.394204   0.268929   \n",
       "A6_Score                1.000000  0.174733  0.102996  0.471630   0.301128   \n",
       "A7_Score                0.174733  1.000000  0.076372  0.183349   0.248424   \n",
       "A8_Score                0.102996  0.076372  1.000000  0.097102   0.096930   \n",
       "A9_Score                0.471630  0.183349  0.097102  1.000000   0.289737   \n",
       "A10_Score               0.301128  0.248424  0.096930  0.289737   1.000000   \n",
       "age                     0.098692  0.008396 -0.079357  0.132826   0.054470   \n",
       "gender                 -0.089648  0.055770  0.062475  0.003901  -0.069251   \n",
       "jaundice                0.069267  0.026477  0.008685  0.048734   0.052306   \n",
       "family member with PDD  0.116948 -0.013148  0.031612  0.162946   0.120289   \n",
       "used_app_before         0.088947 -0.022027 -0.043234  0.050188  -0.041995   \n",
       "result                  0.627124  0.452661  0.324061  0.656662   0.540747   \n",
       "ASD                     0.591304  0.345731  0.233067  0.628894   0.390797   \n",
       "\n",
       "                             age    gender  jaundice  family member with PDD  \\\n",
       "A1_Score                0.015444 -0.082468 -0.026443                0.094988   \n",
       "A2_Score                0.081058 -0.041945  0.108669                0.078129   \n",
       "A3_Score                0.104054 -0.003922  0.048093                0.103258   \n",
       "A4_Score                0.114477 -0.065345  0.052814                0.187173   \n",
       "A5_Score               -0.001911 -0.042658  0.027302                0.101909   \n",
       "A6_Score                0.098692 -0.089648  0.069267                0.116948   \n",
       "A7_Score                0.008396  0.055770  0.026477               -0.013148   \n",
       "A8_Score               -0.079357  0.062475  0.008685                0.031612   \n",
       "A9_Score                0.132826  0.003901  0.048734                0.162946   \n",
       "A10_Score               0.054470 -0.069251  0.052306                0.120289   \n",
       "age                     1.000000 -0.028267  0.140993                0.192258   \n",
       "gender                 -0.028267  1.000000 -0.032686               -0.093737   \n",
       "jaundice                0.140993 -0.032686  1.000000                0.155564   \n",
       "family member with PDD  0.192258 -0.093737  0.155564                1.000000   \n",
       "used_app_before        -0.040757 -0.027540  0.031821                0.015244   \n",
       "result                  0.102178 -0.051839  0.081338                0.189891   \n",
       "ASD                     0.137390 -0.089829  0.092328                0.170897   \n",
       "\n",
       "                        used_app_before    result       ASD  \n",
       "A1_Score                      -0.040047  0.402907  0.299028  \n",
       "A2_Score                      -0.010405  0.404905  0.318722  \n",
       "A3_Score                       0.056221  0.547983  0.442488  \n",
       "A4_Score                       0.023621  0.578904  0.467323  \n",
       "A5_Score                      -0.000975  0.639323  0.542330  \n",
       "A6_Score                       0.088947  0.627124  0.591304  \n",
       "A7_Score                      -0.022027  0.452661  0.345731  \n",
       "A8_Score                      -0.043234  0.324061  0.233067  \n",
       "A9_Score                       0.050188  0.656662  0.628894  \n",
       "A10_Score                     -0.041995  0.540747  0.390797  \n",
       "age                           -0.040757  0.102178  0.137390  \n",
       "gender                        -0.027540 -0.051839 -0.089829  \n",
       "jaundice                       0.031821  0.081338  0.092328  \n",
       "family member with PDD         0.015244  0.189891  0.170897  \n",
       "used_app_before                1.000000  0.011003  0.044603  \n",
       "result                         0.011003  1.000000  0.821659  \n",
       "ASD                            0.044603  0.821659  1.000000  "
      ]
     },
     "execution_count": 41,
     "metadata": {},
     "output_type": "execute_result"
    }
   ],
   "source": [
    "df_num.corr()"
   ]
  },
  {
   "cell_type": "code",
   "execution_count": 42,
   "id": "d126ea9e",
   "metadata": {},
   "outputs": [
    {
     "data": {
      "text/plain": [
       "United States           109\n",
       "United Arab Emirates     81\n",
       "India                    80\n",
       "New Zealand              76\n",
       "United Kingdom           76\n",
       "                       ... \n",
       "Lebanon                   1\n",
       "Oman                      1\n",
       "Tonga                     1\n",
       "China                     1\n",
       "Cyprus                    1\n",
       "Name: country_of_res, Length: 66, dtype: int64"
      ]
     },
     "execution_count": 42,
     "metadata": {},
     "output_type": "execute_result"
    }
   ],
   "source": [
    "country =df.country_of_res.value_counts()\n",
    "country"
   ]
  },
  {
   "cell_type": "code",
   "execution_count": null,
   "id": "1295ba40",
   "metadata": {},
   "outputs": [],
   "source": []
  },
  {
   "cell_type": "code",
   "execution_count": 43,
   "id": "574aaa5d",
   "metadata": {},
   "outputs": [
    {
     "data": {
      "image/png": "[encoded data removed]",
      "text/plain": [
       "<Figure size 864x432 with 1 Axes>"
      ]
     },
     "metadata": {
      "needs_background": "light"
     },
     "output_type": "display_data"
    }
   ],
   "source": [
    "#Age distribution of the participats\n",
    "\n",
    "plt.figure(figsize=(12,6))\n",
    "plt.title('Age distribution of the athletes')\n",
    "plt.xlabel('Age')\n",
    "plt.ylabel('Number of participants')\n",
    "plt.hist(df.age, bins= np.arange(10,80,2),color='orange', edgecolor='white');\n",
    "plt.show()"
   ]
  },
  {
   "cell_type": "code",
   "execution_count": 44,
   "id": "85239a09",
   "metadata": {},
   "outputs": [
    {
     "data": {
      "text/plain": [
       "m    356\n",
       "f    329\n",
       "Name: gender, dtype: int64"
      ]
     },
     "execution_count": 44,
     "metadata": {},
     "output_type": "execute_result"
    }
   ],
   "source": [
    "gender_counts= df.gender.value_counts()\n",
    "gender_counts"
   ]
  },
  {
   "cell_type": "code",
   "execution_count": 45,
   "id": "2a2f9ee5",
   "metadata": {},
   "outputs": [
    {
     "data": {
      "image/png": "[encoded data removed]",
      "text/plain": [
       "<Figure size 864x432 with 1 Axes>"
      ]
     },
     "metadata": {},
     "output_type": "display_data"
    }
   ],
   "source": [
    "plt.figure(figsize=(12,6))\n",
    "plt.title('Gender Distribution')\n",
    "plt.pie(gender_counts, labels = gender_counts.index, autopct = '%1.1f%%', startangle = 150, shadow=True);# autopct to display percentage in the chart using the formating provided, startangle is to change the direction of the pichart portion\n"
   ]
  },
  {
   "cell_type": "code",
   "execution_count": null,
   "id": "d0204d65",
   "metadata": {},
   "outputs": [],
   "source": []
  },
  {
   "cell_type": "markdown",
   "id": "613fbf71",
   "metadata": {
    "scrolled": true
   },
   "source": [
    "# Lets analyse only people with ASD"
   ]
  },
  {
   "cell_type": "code",
   "execution_count": 46,
   "id": "41d71a73",
   "metadata": {},
   "outputs": [
    {
     "data": {
      "text/html": [
       "<div>\n",
       "<style scoped>\n",
       "    .dataframe tbody tr th:only-of-type {\n",
       "        vertical-align: middle;\n",
       "    }\n",
       "\n",
       "    .dataframe tbody tr th {\n",
       "        vertical-align: top;\n",
       "    }\n",
       "\n",
       "    .dataframe thead th {\n",
       "        text-align: right;\n",
       "    }\n",
       "</style>\n",
       "<table border=\"1\" class=\"dataframe\">\n",
       "  <thead>\n",
       "    <tr style=\"text-align: right;\">\n",
       "      <th></th>\n",
       "      <th>A1_Score</th>\n",
       "      <th>A2_Score</th>\n",
       "      <th>A3_Score</th>\n",
       "      <th>A4_Score</th>\n",
       "      <th>A5_Score</th>\n",
       "      <th>A6_Score</th>\n",
       "      <th>A7_Score</th>\n",
       "      <th>A8_Score</th>\n",
       "      <th>A9_Score</th>\n",
       "      <th>A10_Score</th>\n",
       "      <th>age</th>\n",
       "      <th>gender</th>\n",
       "      <th>ethnicity</th>\n",
       "      <th>jaundice</th>\n",
       "      <th>family member with PDD</th>\n",
       "      <th>country_of_res</th>\n",
       "      <th>used_app_before</th>\n",
       "      <th>result</th>\n",
       "      <th>relation</th>\n",
       "      <th>ASD</th>\n",
       "    </tr>\n",
       "  </thead>\n",
       "  <tbody>\n",
       "    <tr>\n",
       "      <th>2</th>\n",
       "      <td>1</td>\n",
       "      <td>1</td>\n",
       "      <td>0</td>\n",
       "      <td>1</td>\n",
       "      <td>1</td>\n",
       "      <td>0</td>\n",
       "      <td>1</td>\n",
       "      <td>1</td>\n",
       "      <td>1</td>\n",
       "      <td>1</td>\n",
       "      <td>27</td>\n",
       "      <td>m</td>\n",
       "      <td>Latino</td>\n",
       "      <td>yes</td>\n",
       "      <td>yes</td>\n",
       "      <td>Spain</td>\n",
       "      <td>no</td>\n",
       "      <td>8</td>\n",
       "      <td>Parent</td>\n",
       "      <td>1</td>\n",
       "    </tr>\n",
       "    <tr>\n",
       "      <th>5</th>\n",
       "      <td>1</td>\n",
       "      <td>1</td>\n",
       "      <td>1</td>\n",
       "      <td>1</td>\n",
       "      <td>1</td>\n",
       "      <td>0</td>\n",
       "      <td>1</td>\n",
       "      <td>1</td>\n",
       "      <td>1</td>\n",
       "      <td>1</td>\n",
       "      <td>36</td>\n",
       "      <td>m</td>\n",
       "      <td>Others</td>\n",
       "      <td>yes</td>\n",
       "      <td>no</td>\n",
       "      <td>United States</td>\n",
       "      <td>no</td>\n",
       "      <td>9</td>\n",
       "      <td>Self</td>\n",
       "      <td>1</td>\n",
       "    </tr>\n",
       "    <tr>\n",
       "      <th>10</th>\n",
       "      <td>1</td>\n",
       "      <td>1</td>\n",
       "      <td>1</td>\n",
       "      <td>1</td>\n",
       "      <td>1</td>\n",
       "      <td>1</td>\n",
       "      <td>1</td>\n",
       "      <td>1</td>\n",
       "      <td>1</td>\n",
       "      <td>1</td>\n",
       "      <td>33</td>\n",
       "      <td>m</td>\n",
       "      <td>White-European</td>\n",
       "      <td>no</td>\n",
       "      <td>no</td>\n",
       "      <td>United States</td>\n",
       "      <td>no</td>\n",
       "      <td>10</td>\n",
       "      <td>Relative</td>\n",
       "      <td>1</td>\n",
       "    </tr>\n",
       "    <tr>\n",
       "      <th>31</th>\n",
       "      <td>1</td>\n",
       "      <td>0</td>\n",
       "      <td>0</td>\n",
       "      <td>1</td>\n",
       "      <td>1</td>\n",
       "      <td>1</td>\n",
       "      <td>1</td>\n",
       "      <td>1</td>\n",
       "      <td>0</td>\n",
       "      <td>1</td>\n",
       "      <td>37</td>\n",
       "      <td>f</td>\n",
       "      <td>White-European</td>\n",
       "      <td>no</td>\n",
       "      <td>yes</td>\n",
       "      <td>United States</td>\n",
       "      <td>no</td>\n",
       "      <td>7</td>\n",
       "      <td>Self</td>\n",
       "      <td>1</td>\n",
       "    </tr>\n",
       "    <tr>\n",
       "      <th>33</th>\n",
       "      <td>1</td>\n",
       "      <td>1</td>\n",
       "      <td>1</td>\n",
       "      <td>1</td>\n",
       "      <td>1</td>\n",
       "      <td>1</td>\n",
       "      <td>1</td>\n",
       "      <td>1</td>\n",
       "      <td>1</td>\n",
       "      <td>1</td>\n",
       "      <td>18</td>\n",
       "      <td>f</td>\n",
       "      <td>White-European</td>\n",
       "      <td>yes</td>\n",
       "      <td>no</td>\n",
       "      <td>South Africa</td>\n",
       "      <td>no</td>\n",
       "      <td>10</td>\n",
       "      <td>Self</td>\n",
       "      <td>1</td>\n",
       "    </tr>\n",
       "    <tr>\n",
       "      <th>...</th>\n",
       "      <td>...</td>\n",
       "      <td>...</td>\n",
       "      <td>...</td>\n",
       "      <td>...</td>\n",
       "      <td>...</td>\n",
       "      <td>...</td>\n",
       "      <td>...</td>\n",
       "      <td>...</td>\n",
       "      <td>...</td>\n",
       "      <td>...</td>\n",
       "      <td>...</td>\n",
       "      <td>...</td>\n",
       "      <td>...</td>\n",
       "      <td>...</td>\n",
       "      <td>...</td>\n",
       "      <td>...</td>\n",
       "      <td>...</td>\n",
       "      <td>...</td>\n",
       "      <td>...</td>\n",
       "      <td>...</td>\n",
       "    </tr>\n",
       "    <tr>\n",
       "      <th>696</th>\n",
       "      <td>1</td>\n",
       "      <td>1</td>\n",
       "      <td>1</td>\n",
       "      <td>1</td>\n",
       "      <td>1</td>\n",
       "      <td>1</td>\n",
       "      <td>0</td>\n",
       "      <td>1</td>\n",
       "      <td>1</td>\n",
       "      <td>1</td>\n",
       "      <td>31</td>\n",
       "      <td>m</td>\n",
       "      <td>Turkish</td>\n",
       "      <td>no</td>\n",
       "      <td>yes</td>\n",
       "      <td>Australia</td>\n",
       "      <td>no</td>\n",
       "      <td>9</td>\n",
       "      <td>Self</td>\n",
       "      <td>1</td>\n",
       "    </tr>\n",
       "    <tr>\n",
       "      <th>698</th>\n",
       "      <td>1</td>\n",
       "      <td>1</td>\n",
       "      <td>1</td>\n",
       "      <td>1</td>\n",
       "      <td>1</td>\n",
       "      <td>1</td>\n",
       "      <td>1</td>\n",
       "      <td>1</td>\n",
       "      <td>1</td>\n",
       "      <td>1</td>\n",
       "      <td>27</td>\n",
       "      <td>f</td>\n",
       "      <td>Pasifika</td>\n",
       "      <td>no</td>\n",
       "      <td>no</td>\n",
       "      <td>Australia</td>\n",
       "      <td>no</td>\n",
       "      <td>10</td>\n",
       "      <td>Self</td>\n",
       "      <td>1</td>\n",
       "    </tr>\n",
       "    <tr>\n",
       "      <th>699</th>\n",
       "      <td>0</td>\n",
       "      <td>1</td>\n",
       "      <td>0</td>\n",
       "      <td>1</td>\n",
       "      <td>1</td>\n",
       "      <td>0</td>\n",
       "      <td>1</td>\n",
       "      <td>1</td>\n",
       "      <td>1</td>\n",
       "      <td>1</td>\n",
       "      <td>25</td>\n",
       "      <td>f</td>\n",
       "      <td>White-European</td>\n",
       "      <td>no</td>\n",
       "      <td>no</td>\n",
       "      <td>Russia</td>\n",
       "      <td>no</td>\n",
       "      <td>7</td>\n",
       "      <td>Self</td>\n",
       "      <td>1</td>\n",
       "    </tr>\n",
       "    <tr>\n",
       "      <th>701</th>\n",
       "      <td>1</td>\n",
       "      <td>0</td>\n",
       "      <td>1</td>\n",
       "      <td>1</td>\n",
       "      <td>1</td>\n",
       "      <td>0</td>\n",
       "      <td>1</td>\n",
       "      <td>1</td>\n",
       "      <td>0</td>\n",
       "      <td>1</td>\n",
       "      <td>24</td>\n",
       "      <td>f</td>\n",
       "      <td>Others</td>\n",
       "      <td>no</td>\n",
       "      <td>no</td>\n",
       "      <td>Russia</td>\n",
       "      <td>no</td>\n",
       "      <td>7</td>\n",
       "      <td>Others</td>\n",
       "      <td>1</td>\n",
       "    </tr>\n",
       "    <tr>\n",
       "      <th>703</th>\n",
       "      <td>1</td>\n",
       "      <td>0</td>\n",
       "      <td>1</td>\n",
       "      <td>1</td>\n",
       "      <td>1</td>\n",
       "      <td>0</td>\n",
       "      <td>1</td>\n",
       "      <td>1</td>\n",
       "      <td>1</td>\n",
       "      <td>1</td>\n",
       "      <td>26</td>\n",
       "      <td>f</td>\n",
       "      <td>White-European</td>\n",
       "      <td>no</td>\n",
       "      <td>no</td>\n",
       "      <td>Cyprus</td>\n",
       "      <td>no</td>\n",
       "      <td>8</td>\n",
       "      <td>Self</td>\n",
       "      <td>1</td>\n",
       "    </tr>\n",
       "  </tbody>\n",
       "</table>\n",
       "<p>184 rows × 20 columns</p>\n",
       "</div>"
      ],
      "text/plain": [
       "     A1_Score  A2_Score  A3_Score  A4_Score  A5_Score  A6_Score  A7_Score  \\\n",
       "2           1         1         0         1         1         0         1   \n",
       "5           1         1         1         1         1         0         1   \n",
       "10          1         1         1         1         1         1         1   \n",
       "31          1         0         0         1         1         1         1   \n",
       "33          1         1         1         1         1         1         1   \n",
       "..        ...       ...       ...       ...       ...       ...       ...   \n",
       "696         1         1         1         1         1         1         0   \n",
       "698         1         1         1         1         1         1         1   \n",
       "699         0         1         0         1         1         0         1   \n",
       "701         1         0         1         1         1         0         1   \n",
       "703         1         0         1         1         1         0         1   \n",
       "\n",
       "     A8_Score  A9_Score  A10_Score  age gender       ethnicity jaundice  \\\n",
       "2           1         1          1   27      m          Latino      yes   \n",
       "5           1         1          1   36      m          Others      yes   \n",
       "10          1         1          1   33      m  White-European       no   \n",
       "31          1         0          1   37      f  White-European       no   \n",
       "33          1         1          1   18      f  White-European      yes   \n",
       "..        ...       ...        ...  ...    ...             ...      ...   \n",
       "696         1         1          1   31      m         Turkish       no   \n",
       "698         1         1          1   27      f        Pasifika       no   \n",
       "699         1         1          1   25      f  White-European       no   \n",
       "701         1         0          1   24      f          Others       no   \n",
       "703         1         1          1   26      f  White-European       no   \n",
       "\n",
       "    family member with PDD country_of_res used_app_before  result  relation  \\\n",
       "2                      yes          Spain              no       8    Parent   \n",
       "5                       no  United States              no       9      Self   \n",
       "10                      no  United States              no      10  Relative   \n",
       "31                     yes  United States              no       7      Self   \n",
       "33                      no   South Africa              no      10      Self   \n",
       "..                     ...            ...             ...     ...       ...   \n",
       "696                    yes      Australia              no       9      Self   \n",
       "698                     no      Australia              no      10      Self   \n",
       "699                     no         Russia              no       7      Self   \n",
       "701                     no         Russia              no       7    Others   \n",
       "703                     no         Cyprus              no       8      Self   \n",
       "\n",
       "     ASD  \n",
       "2      1  \n",
       "5      1  \n",
       "10     1  \n",
       "31     1  \n",
       "33     1  \n",
       "..   ...  \n",
       "696    1  \n",
       "698    1  \n",
       "699    1  \n",
       "701    1  \n",
       "703    1  \n",
       "\n",
       "[184 rows x 20 columns]"
      ]
     },
     "execution_count": 46,
     "metadata": {},
     "output_type": "execute_result"
    }
   ],
   "source": [
    "positive= df[(df.ASD== 1)]\n",
    "positive"
   ]
  },
  {
   "cell_type": "code",
   "execution_count": 47,
   "id": "f64143e4",
   "metadata": {
    "scrolled": true
   },
   "outputs": [
    {
     "data": {
      "text/plain": [
       "f    102\n",
       "m     82\n",
       "Name: gender, dtype: int64"
      ]
     },
     "execution_count": 47,
     "metadata": {},
     "output_type": "execute_result"
    }
   ],
   "source": [
    "gender_POS=positive.gender.value_counts()\n",
    "gender_POS"
   ]
  },
  {
   "cell_type": "code",
   "execution_count": 48,
   "id": "94f140f4",
   "metadata": {},
   "outputs": [
    {
     "data": {
      "image/png": "[encoded data removed]",
      "text/plain": [
       "<Figure size 864x432 with 1 Axes>"
      ]
     },
     "metadata": {},
     "output_type": "display_data"
    }
   ],
   "source": [
    "plt.figure(figsize=(12,6))\n",
    "plt.title('Male and Female who has ASD ')\n",
    "plt.pie(gender_POS, labels = gender_POS.index, autopct = '%1.1f%%');# autopct to display percentage in the chart using the formating provided, startangle is to change the direction of the pichart portion\n"
   ]
  },
  {
   "cell_type": "code",
   "execution_count": 49,
   "id": "e8768026",
   "metadata": {},
   "outputs": [],
   "source": [
    "#|Above we can see there are 55.4% Females and 44.6 males who has diagnised with ASD in the data"
   ]
  },
  {
   "cell_type": "code",
   "execution_count": 50,
   "id": "59479155",
   "metadata": {},
   "outputs": [
    {
     "data": {
      "text/plain": [
       "White-European     108\n",
       "Others              17\n",
       "Black               17\n",
       "Asian               14\n",
       "Latino              10\n",
       "Middle Eastern       8\n",
       "Hispanic             5\n",
       "South Asian          3\n",
       "Turkish              1\n",
       "Pasifika             1\n",
       "Name: ethnicity, dtype: int64"
      ]
     },
     "execution_count": 50,
     "metadata": {},
     "output_type": "execute_result"
    }
   ],
   "source": [
    "ethnicity_ASD = positive.ethnicity.value_counts().sort_values(ascending=False)\n",
    "ethnicity_ASD"
   ]
  },
  {
   "cell_type": "code",
   "execution_count": 51,
   "id": "c7565c0f",
   "metadata": {},
   "outputs": [
    {
     "data": {
      "image/png": "[encoded data removed]",
      "text/plain": [
       "<Figure size 1440x1080 with 1 Axes>"
      ]
     },
     "metadata": {},
     "output_type": "display_data"
    }
   ],
   "source": [
    "plt.figure(figsize=(20,15))\n",
    "plt.title('Male and Female who has ASD ')\n",
    "plt.pie(ethnicity_ASD, labels = ethnicity_ASD.index, autopct = '%1.1f%%');"
   ]
  },
  {
   "cell_type": "code",
   "execution_count": 52,
   "id": "88fffaa6",
   "metadata": {},
   "outputs": [],
   "source": [
    "#The White Europian Ethnic people has diagnosised with ASD"
   ]
  },
  {
   "cell_type": "code",
   "execution_count": 53,
   "id": "e40bbb5d",
   "metadata": {},
   "outputs": [
    {
     "data": {
      "text/plain": [
       "United States           109\n",
       "United Arab Emirates     81\n",
       "India                    80\n",
       "New Zealand              76\n",
       "United Kingdom           76\n",
       "Jordan                   47\n",
       "Australia                27\n",
       "Sri Lanka                14\n",
       "Canada                   14\n",
       "Afghanistan              13\n",
       "Name: country_of_res, dtype: int64"
      ]
     },
     "execution_count": 53,
     "metadata": {},
     "output_type": "execute_result"
    }
   ],
   "source": [
    "#Top Countries participating\n",
    "top_10_countries_res = df.country_of_res.value_counts().sort_values(ascending=False).head(10)\n",
    "top_10_countries_res"
   ]
  },
  {
   "cell_type": "code",
   "execution_count": 54,
   "id": "c8635e0d",
   "metadata": {
    "scrolled": true
   },
   "outputs": [
    {
     "data": {
      "image/png": "[encoded data removed]",
      "text/plain": [
       "<Figure size 1440x1080 with 1 Axes>"
      ]
     },
     "metadata": {
      "needs_background": "light"
     },
     "output_type": "display_data"
    }
   ],
   "source": [
    "plt.figure(figsize=(20,15))\n",
    "\n",
    "plt.title('Overall people with ASD by Country')\n",
    "sns.barplot(x= top_10_countries_res.index, y=top_10_countries_res,palette = 'Set2');"
   ]
  },
  {
   "cell_type": "code",
   "execution_count": 55,
   "id": "0492fb02",
   "metadata": {},
   "outputs": [],
   "source": [
    "#People with ASD from Top 10 countries "
   ]
  },
  {
   "cell_type": "code",
   "execution_count": 56,
   "id": "10382dc8",
   "metadata": {},
   "outputs": [
    {
     "data": {
      "text/html": [
       "<div>\n",
       "<style scoped>\n",
       "    .dataframe tbody tr th:only-of-type {\n",
       "        vertical-align: middle;\n",
       "    }\n",
       "\n",
       "    .dataframe tbody tr th {\n",
       "        vertical-align: top;\n",
       "    }\n",
       "\n",
       "    .dataframe thead th {\n",
       "        text-align: right;\n",
       "    }\n",
       "</style>\n",
       "<table border=\"1\" class=\"dataframe\">\n",
       "  <thead>\n",
       "    <tr style=\"text-align: right;\">\n",
       "      <th></th>\n",
       "      <th>A1_Score</th>\n",
       "      <th>A2_Score</th>\n",
       "      <th>A3_Score</th>\n",
       "      <th>A4_Score</th>\n",
       "      <th>A5_Score</th>\n",
       "      <th>A6_Score</th>\n",
       "      <th>A7_Score</th>\n",
       "      <th>A8_Score</th>\n",
       "      <th>A9_Score</th>\n",
       "      <th>A10_Score</th>\n",
       "      <th>age</th>\n",
       "      <th>gender</th>\n",
       "      <th>ethnicity</th>\n",
       "      <th>jaundice</th>\n",
       "      <th>family member with PDD</th>\n",
       "      <th>country_of_res</th>\n",
       "      <th>used_app_before</th>\n",
       "      <th>result</th>\n",
       "      <th>relation</th>\n",
       "      <th>ASD</th>\n",
       "    </tr>\n",
       "  </thead>\n",
       "  <tbody>\n",
       "    <tr>\n",
       "      <th>522</th>\n",
       "      <td>1</td>\n",
       "      <td>1</td>\n",
       "      <td>1</td>\n",
       "      <td>1</td>\n",
       "      <td>1</td>\n",
       "      <td>0</td>\n",
       "      <td>1</td>\n",
       "      <td>0</td>\n",
       "      <td>1</td>\n",
       "      <td>0</td>\n",
       "      <td>47</td>\n",
       "      <td>f</td>\n",
       "      <td>White-European</td>\n",
       "      <td>yes</td>\n",
       "      <td>yes</td>\n",
       "      <td>United States</td>\n",
       "      <td>no</td>\n",
       "      <td>7</td>\n",
       "      <td>Self</td>\n",
       "      <td>1</td>\n",
       "    </tr>\n",
       "    <tr>\n",
       "      <th>558</th>\n",
       "      <td>1</td>\n",
       "      <td>1</td>\n",
       "      <td>1</td>\n",
       "      <td>1</td>\n",
       "      <td>1</td>\n",
       "      <td>1</td>\n",
       "      <td>1</td>\n",
       "      <td>1</td>\n",
       "      <td>0</td>\n",
       "      <td>1</td>\n",
       "      <td>22</td>\n",
       "      <td>f</td>\n",
       "      <td>White-European</td>\n",
       "      <td>no</td>\n",
       "      <td>no</td>\n",
       "      <td>United States</td>\n",
       "      <td>no</td>\n",
       "      <td>9</td>\n",
       "      <td>Self</td>\n",
       "      <td>1</td>\n",
       "    </tr>\n",
       "    <tr>\n",
       "      <th>560</th>\n",
       "      <td>1</td>\n",
       "      <td>1</td>\n",
       "      <td>1</td>\n",
       "      <td>1</td>\n",
       "      <td>1</td>\n",
       "      <td>1</td>\n",
       "      <td>1</td>\n",
       "      <td>0</td>\n",
       "      <td>1</td>\n",
       "      <td>1</td>\n",
       "      <td>39</td>\n",
       "      <td>f</td>\n",
       "      <td>White-European</td>\n",
       "      <td>no</td>\n",
       "      <td>yes</td>\n",
       "      <td>United States</td>\n",
       "      <td>no</td>\n",
       "      <td>9</td>\n",
       "      <td>Self</td>\n",
       "      <td>1</td>\n",
       "    </tr>\n",
       "    <tr>\n",
       "      <th>678</th>\n",
       "      <td>1</td>\n",
       "      <td>1</td>\n",
       "      <td>1</td>\n",
       "      <td>1</td>\n",
       "      <td>1</td>\n",
       "      <td>0</td>\n",
       "      <td>0</td>\n",
       "      <td>1</td>\n",
       "      <td>1</td>\n",
       "      <td>1</td>\n",
       "      <td>43</td>\n",
       "      <td>f</td>\n",
       "      <td>Black</td>\n",
       "      <td>no</td>\n",
       "      <td>no</td>\n",
       "      <td>United States</td>\n",
       "      <td>no</td>\n",
       "      <td>8</td>\n",
       "      <td>Self</td>\n",
       "      <td>1</td>\n",
       "    </tr>\n",
       "    <tr>\n",
       "      <th>681</th>\n",
       "      <td>1</td>\n",
       "      <td>1</td>\n",
       "      <td>0</td>\n",
       "      <td>1</td>\n",
       "      <td>1</td>\n",
       "      <td>1</td>\n",
       "      <td>1</td>\n",
       "      <td>1</td>\n",
       "      <td>1</td>\n",
       "      <td>1</td>\n",
       "      <td>49</td>\n",
       "      <td>f</td>\n",
       "      <td>Hispanic</td>\n",
       "      <td>no</td>\n",
       "      <td>no</td>\n",
       "      <td>United States</td>\n",
       "      <td>no</td>\n",
       "      <td>9</td>\n",
       "      <td>Self</td>\n",
       "      <td>1</td>\n",
       "    </tr>\n",
       "  </tbody>\n",
       "</table>\n",
       "</div>"
      ],
      "text/plain": [
       "     A1_Score  A2_Score  A3_Score  A4_Score  A5_Score  A6_Score  A7_Score  \\\n",
       "522         1         1         1         1         1         0         1   \n",
       "558         1         1         1         1         1         1         1   \n",
       "560         1         1         1         1         1         1         1   \n",
       "678         1         1         1         1         1         0         0   \n",
       "681         1         1         0         1         1         1         1   \n",
       "\n",
       "     A8_Score  A9_Score  A10_Score  age gender       ethnicity jaundice  \\\n",
       "522         0         1          0   47      f  White-European      yes   \n",
       "558         1         0          1   22      f  White-European       no   \n",
       "560         0         1          1   39      f  White-European       no   \n",
       "678         1         1          1   43      f           Black       no   \n",
       "681         1         1          1   49      f        Hispanic       no   \n",
       "\n",
       "    family member with PDD country_of_res used_app_before  result relation  \\\n",
       "522                    yes  United States              no       7     Self   \n",
       "558                     no  United States              no       9     Self   \n",
       "560                    yes  United States              no       9     Self   \n",
       "678                     no  United States              no       8     Self   \n",
       "681                     no  United States              no       9     Self   \n",
       "\n",
       "     ASD  \n",
       "522    1  \n",
       "558    1  \n",
       "560    1  \n",
       "678    1  \n",
       "681    1  "
      ]
     },
     "execution_count": 56,
     "metadata": {},
     "output_type": "execute_result"
    }
   ],
   "source": [
    "female_participants = positive[(positive.gender == 'f')& (positive.country_of_res == 'United States')]\n",
    "female_participants.tail()"
   ]
  },
  {
   "cell_type": "code",
   "execution_count": null,
   "id": "d64bc947",
   "metadata": {},
   "outputs": [],
   "source": []
  },
  {
   "cell_type": "code",
   "execution_count": 57,
   "id": "605d95b9",
   "metadata": {
    "scrolled": true
   },
   "outputs": [
    {
     "data": {
      "text/plain": [
       "Text(0.5, 1.0, 'Female Participation in USA with Jaundice')"
      ]
     },
     "execution_count": 57,
     "metadata": {},
     "output_type": "execute_result"
    },
    {
     "data": {
      "image/png": "[encoded data removed]",
      "text/plain": [
       "<Figure size 1440x720 with 1 Axes>"
      ]
     },
     "metadata": {},
     "output_type": "display_data"
    }
   ],
   "source": [
    "#Female Participation in USA with Jaundice\n",
    "sns.set(style='darkgrid')\n",
    "plt.figure(figsize=(20,10))\n",
    "sns.countplot(x='jaundice', data= female_participants, palette='Spectral')\n",
    "plt.title('Female Participation in USA with Jaundice')"
   ]
  },
  {
   "cell_type": "markdown",
   "id": "0cb805ed",
   "metadata": {},
   "source": [
    "Female Participants who have asd with family member with PDD"
   ]
  },
  {
   "cell_type": "code",
   "execution_count": 58,
   "id": "0d5e4338",
   "metadata": {},
   "outputs": [
    {
     "data": {
      "text/plain": [
       "Text(0.5, 1.0, 'female participantswho have asd with family member with PDD')"
      ]
     },
     "execution_count": 58,
     "metadata": {},
     "output_type": "execute_result"
    },
    {
     "data": {
      "image/png": "[encoded data removed]",
      "text/plain": [
       "<Figure size 1440x720 with 1 Axes>"
      ]
     },
     "metadata": {},
     "output_type": "display_data"
    }
   ],
   "source": [
    "sns.set(style='darkgrid')\n",
    "plt.figure(figsize=(20,10))\n",
    "sns.countplot(x='family member with PDD', data= female_participants)\n",
    "plt.title('female participantswho have asd with family member with PDD')"
   ]
  },
  {
   "cell_type": "code",
   "execution_count": 59,
   "id": "57f1f0f9",
   "metadata": {},
   "outputs": [
    {
     "data": {
      "text/plain": [
       "Text(0.5, 1.0, 'Female Participation in USA and their age')"
      ]
     },
     "execution_count": 59,
     "metadata": {},
     "output_type": "execute_result"
    },
    {
     "data": {
      "image/png": "[encoded data removed]",
      "text/plain": [
       "<Figure size 1440x720 with 1 Axes>"
      ]
     },
     "metadata": {},
     "output_type": "display_data"
    }
   ],
   "source": [
    "#Female Participation with ASD in USA and their age\n",
    "sns.set(style='darkgrid')\n",
    "plt.figure(figsize=(20,10))\n",
    "sns.countplot(x='age', data= female_participants, palette='Spectral')\n",
    "plt.title('Female Participation in USA and their age')"
   ]
  },
  {
   "cell_type": "code",
   "execution_count": 60,
   "id": "467b9f4e",
   "metadata": {},
   "outputs": [],
   "source": [
    "#ALL Female Participation with ASD and their age\n",
    "female_participants_all = positive[(positive.gender == 'f')]"
   ]
  },
  {
   "cell_type": "code",
   "execution_count": 61,
   "id": "fc9116fc",
   "metadata": {},
   "outputs": [
    {
     "data": {
      "text/plain": [
       "Text(0.5, 1.0, 'Female Participation and their age')"
      ]
     },
     "execution_count": 61,
     "metadata": {},
     "output_type": "execute_result"
    },
    {
     "data": {
      "image/png": "[encoded data removed]",
      "text/plain": [
       "<Figure size 1440x720 with 1 Axes>"
      ]
     },
     "metadata": {},
     "output_type": "display_data"
    }
   ],
   "source": [
    "sns.set(style='darkgrid')\n",
    "plt.figure(figsize=(20,10))\n",
    "sns.countplot(x='age', data= female_participants_all, palette='Spectral')\n",
    "plt.title('Female Participation and their age')"
   ]
  },
  {
   "cell_type": "code",
   "execution_count": 62,
   "id": "76951573",
   "metadata": {},
   "outputs": [
    {
     "data": {
      "text/plain": [
       "Text(0.5, 1.0, 'Female Participation and their ethnicity')"
      ]
     },
     "execution_count": 62,
     "metadata": {},
     "output_type": "execute_result"
    },
    {
     "data": {
      "image/png": "[encoded data removed]",
      "text/plain": [
       "<Figure size 1440x720 with 1 Axes>"
      ]
     },
     "metadata": {},
     "output_type": "display_data"
    }
   ],
   "source": [
    "#All Female Participation with ASD and their ethnicity\n",
    "sns.set(style='darkgrid')\n",
    "plt.figure(figsize=(20,10))\n",
    "sns.countplot(x='ethnicity', data= female_participants_all, palette='Spectral')\n",
    "plt.title('Female Participation and their ethnicity')"
   ]
  },
  {
   "cell_type": "code",
   "execution_count": 63,
   "id": "f65174e2",
   "metadata": {},
   "outputs": [
    {
     "data": {
      "text/plain": [
       "Text(0.5, 1.0, 'Female Participation and Jaundice')"
      ]
     },
     "execution_count": 63,
     "metadata": {},
     "output_type": "execute_result"
    },
    {
     "data": {
      "image/png": "[encoded data removed]",
      "text/plain": [
       "<Figure size 1440x720 with 1 Axes>"
      ]
     },
     "metadata": {},
     "output_type": "display_data"
    }
   ],
   "source": [
    "#All Female Participats with ASD and Jaundice\n",
    "sns.set(style='darkgrid')\n",
    "plt.figure(figsize=(20,10))\n",
    "sns.countplot(x='jaundice', data= female_participants_all, palette='Spectral')\n",
    "plt.title('Female Participation and Jaundice')"
   ]
  },
  {
   "cell_type": "code",
   "execution_count": 64,
   "id": "e9cb722d",
   "metadata": {},
   "outputs": [
    {
     "data": {
      "text/plain": [
       "Text(0.5, 1.0, 'Female Participants and their country of residence')"
      ]
     },
     "execution_count": 64,
     "metadata": {},
     "output_type": "execute_result"
    },
    {
     "data": {
      "image/png": "[encoded data removed]",
      "text/plain": [
       "<Figure size 2160x720 with 1 Axes>"
      ]
     },
     "metadata": {},
     "output_type": "display_data"
    }
   ],
   "source": [
    "#All Female Participats and their country of residence\n",
    "sns.set(style='darkgrid')\n",
    "plt.figure(figsize=(30,10))\n",
    "sns.countplot(x='country_of_res', data= female_participants_all, palette='Spectral')\n",
    "plt.title('Female Participants and their country of residence')"
   ]
  },
  {
   "cell_type": "code",
   "execution_count": 65,
   "id": "fbfc146a",
   "metadata": {},
   "outputs": [],
   "source": [
    "male_participants = positive[(positive.gender == 'm')]"
   ]
  },
  {
   "cell_type": "code",
   "execution_count": 66,
   "id": "0fffac17",
   "metadata": {},
   "outputs": [
    {
     "data": {
      "text/plain": [
       "Text(0.5, 1.0, 'male Participation and their age')"
      ]
     },
     "execution_count": 66,
     "metadata": {},
     "output_type": "execute_result"
    },
    {
     "data": {
      "image/png": "[encoded data removed]",
      "text/plain": [
       "<Figure size 2160x720 with 1 Axes>"
      ]
     },
     "metadata": {},
     "output_type": "display_data"
    }
   ],
   "source": [
    "sns.set(style='darkgrid')\n",
    "plt.figure(figsize=(30,10))\n",
    "sns.countplot(x='age', data= male_participants, palette='Spectral')\n",
    "plt.title('male Participation and their age')"
   ]
  },
  {
   "cell_type": "code",
   "execution_count": 67,
   "id": "7384cdde",
   "metadata": {},
   "outputs": [
    {
     "data": {
      "text/plain": [
       "Text(0.5, 1.0, 'male Participation and their country of residence')"
      ]
     },
     "execution_count": 67,
     "metadata": {},
     "output_type": "execute_result"
    },
    {
     "data": {
      "image/png": "[encoded data removed]",
      "text/plain": [
       "<Figure size 2160x720 with 1 Axes>"
      ]
     },
     "metadata": {},
     "output_type": "display_data"
    }
   ],
   "source": [
    "sns.set(style='darkgrid')\n",
    "plt.figure(figsize=(30,10))\n",
    "sns.countplot(x='country_of_res', data= male_participants, palette='Spectral')\n",
    "plt.title('male Participation and their country of residence')"
   ]
  },
  {
   "cell_type": "code",
   "execution_count": 68,
   "id": "b8f99f25",
   "metadata": {},
   "outputs": [
    {
     "data": {
      "text/plain": [
       "Text(0.5, 1.0, 'male Participants and their ethnicity')"
      ]
     },
     "execution_count": 68,
     "metadata": {},
     "output_type": "execute_result"
    },
    {
     "data": {
      "image/png": "[encoded data removed]",
      "text/plain": [
       "<Figure size 1440x720 with 1 Axes>"
      ]
     },
     "metadata": {},
     "output_type": "display_data"
    }
   ],
   "source": [
    "sns.set(style='darkgrid')\n",
    "plt.figure(figsize=(20,10))\n",
    "sns.countplot(x='ethnicity', data= male_participants, palette='Spectral')\n",
    "plt.title('male Participants and their ethnicity')"
   ]
  },
  {
   "cell_type": "code",
   "execution_count": null,
   "id": "8b77d40c",
   "metadata": {},
   "outputs": [],
   "source": []
  },
  {
   "cell_type": "code",
   "execution_count": null,
   "id": "af818b01",
   "metadata": {},
   "outputs": [],
   "source": [
    "# More Analysis, like who male female/male participants belonging to white europian ethnic group, has jaundice, live in USA  and what is their age?"
   ]
  },
  {
   "cell_type": "code",
   "execution_count": 71,
   "id": "df1c1348",
   "metadata": {},
   "outputs": [
    {
     "data": {
      "text/html": [
       "<div>\n",
       "<style scoped>\n",
       "    .dataframe tbody tr th:only-of-type {\n",
       "        vertical-align: middle;\n",
       "    }\n",
       "\n",
       "    .dataframe tbody tr th {\n",
       "        vertical-align: top;\n",
       "    }\n",
       "\n",
       "    .dataframe thead th {\n",
       "        text-align: right;\n",
       "    }\n",
       "</style>\n",
       "<table border=\"1\" class=\"dataframe\">\n",
       "  <thead>\n",
       "    <tr style=\"text-align: right;\">\n",
       "      <th></th>\n",
       "      <th>A1_Score</th>\n",
       "      <th>A2_Score</th>\n",
       "      <th>A3_Score</th>\n",
       "      <th>A4_Score</th>\n",
       "      <th>A5_Score</th>\n",
       "      <th>A6_Score</th>\n",
       "      <th>A7_Score</th>\n",
       "      <th>A8_Score</th>\n",
       "      <th>A9_Score</th>\n",
       "      <th>A10_Score</th>\n",
       "      <th>age</th>\n",
       "      <th>gender</th>\n",
       "      <th>ethnicity</th>\n",
       "      <th>jaundice</th>\n",
       "      <th>family member with PDD</th>\n",
       "      <th>country_of_res</th>\n",
       "      <th>used_app_before</th>\n",
       "      <th>result</th>\n",
       "      <th>relation</th>\n",
       "      <th>ASD</th>\n",
       "    </tr>\n",
       "  </thead>\n",
       "  <tbody>\n",
       "    <tr>\n",
       "      <th>464</th>\n",
       "      <td>1</td>\n",
       "      <td>1</td>\n",
       "      <td>0</td>\n",
       "      <td>1</td>\n",
       "      <td>1</td>\n",
       "      <td>1</td>\n",
       "      <td>1</td>\n",
       "      <td>1</td>\n",
       "      <td>0</td>\n",
       "      <td>1</td>\n",
       "      <td>29</td>\n",
       "      <td>f</td>\n",
       "      <td>White-European</td>\n",
       "      <td>yes</td>\n",
       "      <td>no</td>\n",
       "      <td>United States</td>\n",
       "      <td>no</td>\n",
       "      <td>8</td>\n",
       "      <td>Self</td>\n",
       "      <td>1</td>\n",
       "    </tr>\n",
       "    <tr>\n",
       "      <th>522</th>\n",
       "      <td>1</td>\n",
       "      <td>1</td>\n",
       "      <td>1</td>\n",
       "      <td>1</td>\n",
       "      <td>1</td>\n",
       "      <td>0</td>\n",
       "      <td>1</td>\n",
       "      <td>0</td>\n",
       "      <td>1</td>\n",
       "      <td>0</td>\n",
       "      <td>47</td>\n",
       "      <td>f</td>\n",
       "      <td>White-European</td>\n",
       "      <td>yes</td>\n",
       "      <td>yes</td>\n",
       "      <td>United States</td>\n",
       "      <td>no</td>\n",
       "      <td>7</td>\n",
       "      <td>Self</td>\n",
       "      <td>1</td>\n",
       "    </tr>\n",
       "  </tbody>\n",
       "</table>\n",
       "</div>"
      ],
      "text/plain": [
       "     A1_Score  A2_Score  A3_Score  A4_Score  A5_Score  A6_Score  A7_Score  \\\n",
       "464         1         1         0         1         1         1         1   \n",
       "522         1         1         1         1         1         0         1   \n",
       "\n",
       "     A8_Score  A9_Score  A10_Score  age gender       ethnicity jaundice  \\\n",
       "464         1         0          1   29      f  White-European      yes   \n",
       "522         0         1          0   47      f  White-European      yes   \n",
       "\n",
       "    family member with PDD country_of_res used_app_before  result relation  \\\n",
       "464                     no  United States              no       8     Self   \n",
       "522                    yes  United States              no       7     Self   \n",
       "\n",
       "     ASD  \n",
       "464    1  \n",
       "522    1  "
      ]
     },
     "execution_count": 71,
     "metadata": {},
     "output_type": "execute_result"
    }
   ],
   "source": [
    "female_participants_detail = positive[(positive.gender == 'f')& (positive.country_of_res == 'United States') & (positive.ethnicity == 'White-European') & (positive.jaundice == 'yes')]\n",
    "female_participants_detail"
   ]
  },
  {
   "cell_type": "code",
   "execution_count": 72,
   "id": "00e282a3",
   "metadata": {},
   "outputs": [
    {
     "data": {
      "text/html": [
       "<div>\n",
       "<style scoped>\n",
       "    .dataframe tbody tr th:only-of-type {\n",
       "        vertical-align: middle;\n",
       "    }\n",
       "\n",
       "    .dataframe tbody tr th {\n",
       "        vertical-align: top;\n",
       "    }\n",
       "\n",
       "    .dataframe thead th {\n",
       "        text-align: right;\n",
       "    }\n",
       "</style>\n",
       "<table border=\"1\" class=\"dataframe\">\n",
       "  <thead>\n",
       "    <tr style=\"text-align: right;\">\n",
       "      <th></th>\n",
       "      <th>A1_Score</th>\n",
       "      <th>A2_Score</th>\n",
       "      <th>A3_Score</th>\n",
       "      <th>A4_Score</th>\n",
       "      <th>A5_Score</th>\n",
       "      <th>A6_Score</th>\n",
       "      <th>A7_Score</th>\n",
       "      <th>A8_Score</th>\n",
       "      <th>A9_Score</th>\n",
       "      <th>A10_Score</th>\n",
       "      <th>age</th>\n",
       "      <th>gender</th>\n",
       "      <th>ethnicity</th>\n",
       "      <th>jaundice</th>\n",
       "      <th>family member with PDD</th>\n",
       "      <th>country_of_res</th>\n",
       "      <th>used_app_before</th>\n",
       "      <th>result</th>\n",
       "      <th>relation</th>\n",
       "      <th>ASD</th>\n",
       "    </tr>\n",
       "  </thead>\n",
       "  <tbody>\n",
       "    <tr>\n",
       "      <th>149</th>\n",
       "      <td>1</td>\n",
       "      <td>1</td>\n",
       "      <td>1</td>\n",
       "      <td>1</td>\n",
       "      <td>1</td>\n",
       "      <td>0</td>\n",
       "      <td>1</td>\n",
       "      <td>1</td>\n",
       "      <td>1</td>\n",
       "      <td>0</td>\n",
       "      <td>35</td>\n",
       "      <td>m</td>\n",
       "      <td>White-European</td>\n",
       "      <td>yes</td>\n",
       "      <td>yes</td>\n",
       "      <td>United States</td>\n",
       "      <td>no</td>\n",
       "      <td>8</td>\n",
       "      <td>Self</td>\n",
       "      <td>1</td>\n",
       "    </tr>\n",
       "    <tr>\n",
       "      <th>694</th>\n",
       "      <td>1</td>\n",
       "      <td>1</td>\n",
       "      <td>1</td>\n",
       "      <td>1</td>\n",
       "      <td>1</td>\n",
       "      <td>0</td>\n",
       "      <td>0</td>\n",
       "      <td>1</td>\n",
       "      <td>0</td>\n",
       "      <td>1</td>\n",
       "      <td>27</td>\n",
       "      <td>m</td>\n",
       "      <td>White-European</td>\n",
       "      <td>yes</td>\n",
       "      <td>no</td>\n",
       "      <td>United States</td>\n",
       "      <td>no</td>\n",
       "      <td>7</td>\n",
       "      <td>Self</td>\n",
       "      <td>1</td>\n",
       "    </tr>\n",
       "  </tbody>\n",
       "</table>\n",
       "</div>"
      ],
      "text/plain": [
       "     A1_Score  A2_Score  A3_Score  A4_Score  A5_Score  A6_Score  A7_Score  \\\n",
       "149         1         1         1         1         1         0         1   \n",
       "694         1         1         1         1         1         0         0   \n",
       "\n",
       "     A8_Score  A9_Score  A10_Score  age gender       ethnicity jaundice  \\\n",
       "149         1         1          0   35      m  White-European      yes   \n",
       "694         1         0          1   27      m  White-European      yes   \n",
       "\n",
       "    family member with PDD country_of_res used_app_before  result relation  \\\n",
       "149                    yes  United States              no       8     Self   \n",
       "694                     no  United States              no       7     Self   \n",
       "\n",
       "     ASD  \n",
       "149    1  \n",
       "694    1  "
      ]
     },
     "execution_count": 72,
     "metadata": {},
     "output_type": "execute_result"
    }
   ],
   "source": [
    "male_participants_detail = positive[(positive.gender == 'm')& (positive.country_of_res == 'United States') & (positive.ethnicity == 'White-European') & (positive.jaundice == 'yes')]\n",
    "male_participants_detail"
   ]
  },
  {
   "cell_type": "code",
   "execution_count": null,
   "id": "fdf1c91d",
   "metadata": {},
   "outputs": [],
   "source": []
  },
  {
   "cell_type": "code",
   "execution_count": null,
   "id": "2a13ffab",
   "metadata": {},
   "outputs": [],
   "source": []
  },
  {
   "cell_type": "code",
   "execution_count": null,
   "id": "066d2d94",
   "metadata": {},
   "outputs": [],
   "source": []
  },
  {
   "cell_type": "code",
   "execution_count": null,
   "id": "3497fdff",
   "metadata": {},
   "outputs": [],
   "source": []
  },
  {
   "cell_type": "code",
   "execution_count": null,
   "id": "4c4dae44",
   "metadata": {},
   "outputs": [],
   "source": [
    "male_participants = positive[(positive.gender == 'm')& (positive.country_of_res == 'United States')]\n",
    "male_participants.tail()"
   ]
  },
  {
   "cell_type": "code",
   "execution_count": null,
   "id": "357a73c1",
   "metadata": {},
   "outputs": [],
   "source": []
  }
 ],
 "metadata": {
  "kernelspec": {
   "display_name": "Python 3 (ipykernel)",
   "language": "python",
   "name": "python3"
  },
  "language_info": {
   "codemirror_mode": {
    "name": "ipython",
    "version": 3
   },
   "file_extension": ".py",
   "mimetype": "text/x-python",
   "name": "python",
   "nbconvert_exporter": "python",
   "pygments_lexer": "ipython3",
   "version": "3.8.12"
  }
 },
 "nbformat": 4,
 "nbformat_minor": 5
}
